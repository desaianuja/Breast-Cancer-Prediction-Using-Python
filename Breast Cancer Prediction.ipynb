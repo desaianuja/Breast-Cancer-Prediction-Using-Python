{
 "cells": [
  {
   "cell_type": "code",
   "execution_count": 1,
   "metadata": {},
   "outputs": [],
   "source": [
    "import numpy as np\n",
    "import pandas as pd\n",
    "import seaborn as sns\n",
    "import matplotlib.pyplot as plt\n",
    "import warnings\n",
    "warnings.filterwarnings(\"ignore\")\n",
    "pd.set_option(\"display.max_columns\",None)"
   ]
  },
  {
   "cell_type": "code",
   "execution_count": 3,
   "metadata": {},
   "outputs": [],
   "source": [
    "df = pd.read_csv(r'C:\\Users\\windows\\Desktop\\IMARTICUS\\Python\\Breast Cancer Prediction\\Dataset\\Dataset\\cancerdata.csv', header = 0, index_col=0)"
   ]
  },
  {
   "cell_type": "code",
   "execution_count": 4,
   "metadata": {},
   "outputs": [
    {
     "data": {
      "text/html": [
       "<div>\n",
       "<style scoped>\n",
       "    .dataframe tbody tr th:only-of-type {\n",
       "        vertical-align: middle;\n",
       "    }\n",
       "\n",
       "    .dataframe tbody tr th {\n",
       "        vertical-align: top;\n",
       "    }\n",
       "\n",
       "    .dataframe thead th {\n",
       "        text-align: right;\n",
       "    }\n",
       "</style>\n",
       "<table border=\"1\" class=\"dataframe\">\n",
       "  <thead>\n",
       "    <tr style=\"text-align: right;\">\n",
       "      <th></th>\n",
       "      <th>diagnosis</th>\n",
       "      <th>radius_mean</th>\n",
       "      <th>texture_mean</th>\n",
       "      <th>perimeter_mean</th>\n",
       "      <th>area_mean</th>\n",
       "      <th>smoothness_mean</th>\n",
       "      <th>compactness_mean</th>\n",
       "      <th>concavity_mean</th>\n",
       "      <th>concave points_mean</th>\n",
       "      <th>symmetry_mean</th>\n",
       "      <th>fractal_dimension_mean</th>\n",
       "      <th>radius_se</th>\n",
       "      <th>texture_se</th>\n",
       "      <th>perimeter_se</th>\n",
       "      <th>area_se</th>\n",
       "      <th>smoothness_se</th>\n",
       "      <th>compactness_se</th>\n",
       "      <th>concavity_se</th>\n",
       "      <th>concave points_se</th>\n",
       "      <th>symmetry_se</th>\n",
       "      <th>fractal_dimension_se</th>\n",
       "      <th>radius_worst</th>\n",
       "      <th>texture_worst</th>\n",
       "      <th>perimeter_worst</th>\n",
       "      <th>area_worst</th>\n",
       "      <th>smoothness_worst</th>\n",
       "      <th>compactness_wors</th>\n",
       "      <th>concavity_worst</th>\n",
       "      <th>concave points_worst</th>\n",
       "      <th>symmetry_worst</th>\n",
       "      <th>fractal_dimension_worst</th>\n",
       "    </tr>\n",
       "    <tr>\n",
       "      <th>id</th>\n",
       "      <th></th>\n",
       "      <th></th>\n",
       "      <th></th>\n",
       "      <th></th>\n",
       "      <th></th>\n",
       "      <th></th>\n",
       "      <th></th>\n",
       "      <th></th>\n",
       "      <th></th>\n",
       "      <th></th>\n",
       "      <th></th>\n",
       "      <th></th>\n",
       "      <th></th>\n",
       "      <th></th>\n",
       "      <th></th>\n",
       "      <th></th>\n",
       "      <th></th>\n",
       "      <th></th>\n",
       "      <th></th>\n",
       "      <th></th>\n",
       "      <th></th>\n",
       "      <th></th>\n",
       "      <th></th>\n",
       "      <th></th>\n",
       "      <th></th>\n",
       "      <th></th>\n",
       "      <th></th>\n",
       "      <th></th>\n",
       "      <th></th>\n",
       "      <th></th>\n",
       "      <th></th>\n",
       "    </tr>\n",
       "  </thead>\n",
       "  <tbody>\n",
       "    <tr>\n",
       "      <td>842302</td>\n",
       "      <td>M</td>\n",
       "      <td>14.204716</td>\n",
       "      <td>20.202641</td>\n",
       "      <td>122.80</td>\n",
       "      <td>1001.0</td>\n",
       "      <td>0.096113</td>\n",
       "      <td>0.089479</td>\n",
       "      <td>0.184766</td>\n",
       "      <td>0.096526</td>\n",
       "      <td>0.150053</td>\n",
       "      <td>0.059764</td>\n",
       "      <td>0.006422</td>\n",
       "      <td>1.615280</td>\n",
       "      <td>2.763911</td>\n",
       "      <td>153.40</td>\n",
       "      <td>0.007540</td>\n",
       "      <td>0.028043</td>\n",
       "      <td>0.05373</td>\n",
       "      <td>0.01587</td>\n",
       "      <td>0.027044</td>\n",
       "      <td>0.003133</td>\n",
       "      <td>25.38</td>\n",
       "      <td>17.33</td>\n",
       "      <td>184.60</td>\n",
       "      <td>2019.0</td>\n",
       "      <td>0.1622</td>\n",
       "      <td>0.134597</td>\n",
       "      <td>0.7119</td>\n",
       "      <td>0.120681</td>\n",
       "      <td>0.4601</td>\n",
       "      <td>0.101594</td>\n",
       "    </tr>\n",
       "    <tr>\n",
       "      <td>842517</td>\n",
       "      <td>M</td>\n",
       "      <td>18.483496</td>\n",
       "      <td>22.464181</td>\n",
       "      <td>132.90</td>\n",
       "      <td>1326.0</td>\n",
       "      <td>0.094443</td>\n",
       "      <td>0.063299</td>\n",
       "      <td>0.086927</td>\n",
       "      <td>0.021108</td>\n",
       "      <td>0.213798</td>\n",
       "      <td>0.074897</td>\n",
       "      <td>0.303622</td>\n",
       "      <td>1.171764</td>\n",
       "      <td>6.690985</td>\n",
       "      <td>74.08</td>\n",
       "      <td>0.003675</td>\n",
       "      <td>0.019118</td>\n",
       "      <td>0.01860</td>\n",
       "      <td>0.01340</td>\n",
       "      <td>0.021795</td>\n",
       "      <td>0.000128</td>\n",
       "      <td>24.99</td>\n",
       "      <td>23.41</td>\n",
       "      <td>158.80</td>\n",
       "      <td>1956.0</td>\n",
       "      <td>0.1238</td>\n",
       "      <td>0.529227</td>\n",
       "      <td>0.2416</td>\n",
       "      <td>0.035439</td>\n",
       "      <td>0.2750</td>\n",
       "      <td>0.079397</td>\n",
       "    </tr>\n",
       "    <tr>\n",
       "      <td>84300903</td>\n",
       "      <td>M</td>\n",
       "      <td>15.516300</td>\n",
       "      <td>18.271486</td>\n",
       "      <td>130.00</td>\n",
       "      <td>1203.0</td>\n",
       "      <td>0.075842</td>\n",
       "      <td>0.059376</td>\n",
       "      <td>0.132738</td>\n",
       "      <td>0.052357</td>\n",
       "      <td>0.222581</td>\n",
       "      <td>0.056730</td>\n",
       "      <td>0.289027</td>\n",
       "      <td>-0.546491</td>\n",
       "      <td>5.660769</td>\n",
       "      <td>94.03</td>\n",
       "      <td>0.009390</td>\n",
       "      <td>0.035186</td>\n",
       "      <td>0.03832</td>\n",
       "      <td>0.02058</td>\n",
       "      <td>0.020481</td>\n",
       "      <td>0.004616</td>\n",
       "      <td>23.57</td>\n",
       "      <td>25.53</td>\n",
       "      <td>152.50</td>\n",
       "      <td>1709.0</td>\n",
       "      <td>0.1444</td>\n",
       "      <td>0.166906</td>\n",
       "      <td>0.4504</td>\n",
       "      <td>0.149670</td>\n",
       "      <td>0.3613</td>\n",
       "      <td>0.088802</td>\n",
       "    </tr>\n",
       "    <tr>\n",
       "      <td>84348301</td>\n",
       "      <td>M</td>\n",
       "      <td>15.540583</td>\n",
       "      <td>27.560108</td>\n",
       "      <td>77.58</td>\n",
       "      <td>386.1</td>\n",
       "      <td>0.091525</td>\n",
       "      <td>0.088022</td>\n",
       "      <td>0.194466</td>\n",
       "      <td>0.010895</td>\n",
       "      <td>0.179685</td>\n",
       "      <td>0.067824</td>\n",
       "      <td>0.765715</td>\n",
       "      <td>0.842057</td>\n",
       "      <td>-0.081625</td>\n",
       "      <td>27.23</td>\n",
       "      <td>0.006981</td>\n",
       "      <td>-0.028741</td>\n",
       "      <td>0.05661</td>\n",
       "      <td>0.01867</td>\n",
       "      <td>0.014801</td>\n",
       "      <td>0.003431</td>\n",
       "      <td>14.91</td>\n",
       "      <td>26.50</td>\n",
       "      <td>98.87</td>\n",
       "      <td>567.7</td>\n",
       "      <td>0.2098</td>\n",
       "      <td>0.224998</td>\n",
       "      <td>0.6869</td>\n",
       "      <td>0.110799</td>\n",
       "      <td>0.6638</td>\n",
       "      <td>0.086210</td>\n",
       "    </tr>\n",
       "    <tr>\n",
       "      <td>84358402</td>\n",
       "      <td>M</td>\n",
       "      <td>14.005198</td>\n",
       "      <td>11.678064</td>\n",
       "      <td>135.10</td>\n",
       "      <td>1297.0</td>\n",
       "      <td>0.092790</td>\n",
       "      <td>0.010642</td>\n",
       "      <td>0.030518</td>\n",
       "      <td>0.037828</td>\n",
       "      <td>0.147534</td>\n",
       "      <td>0.070231</td>\n",
       "      <td>0.732142</td>\n",
       "      <td>1.830999</td>\n",
       "      <td>2.432024</td>\n",
       "      <td>94.44</td>\n",
       "      <td>0.006293</td>\n",
       "      <td>0.020667</td>\n",
       "      <td>0.05688</td>\n",
       "      <td>0.01885</td>\n",
       "      <td>0.026821</td>\n",
       "      <td>0.005654</td>\n",
       "      <td>22.54</td>\n",
       "      <td>16.67</td>\n",
       "      <td>152.20</td>\n",
       "      <td>1575.0</td>\n",
       "      <td>0.1374</td>\n",
       "      <td>0.075833</td>\n",
       "      <td>0.4000</td>\n",
       "      <td>0.126386</td>\n",
       "      <td>0.2364</td>\n",
       "      <td>0.087483</td>\n",
       "    </tr>\n",
       "  </tbody>\n",
       "</table>\n",
       "</div>"
      ],
      "text/plain": [
       "         diagnosis  radius_mean  texture_mean  perimeter_mean  area_mean  \\\n",
       "id                                                                         \n",
       "842302           M    14.204716     20.202641          122.80     1001.0   \n",
       "842517           M    18.483496     22.464181          132.90     1326.0   \n",
       "84300903         M    15.516300     18.271486          130.00     1203.0   \n",
       "84348301         M    15.540583     27.560108           77.58      386.1   \n",
       "84358402         M    14.005198     11.678064          135.10     1297.0   \n",
       "\n",
       "          smoothness_mean  compactness_mean  concavity_mean  \\\n",
       "id                                                            \n",
       "842302           0.096113          0.089479        0.184766   \n",
       "842517           0.094443          0.063299        0.086927   \n",
       "84300903         0.075842          0.059376        0.132738   \n",
       "84348301         0.091525          0.088022        0.194466   \n",
       "84358402         0.092790          0.010642        0.030518   \n",
       "\n",
       "          concave points_mean  symmetry_mean  fractal_dimension_mean  \\\n",
       "id                                                                     \n",
       "842302               0.096526       0.150053                0.059764   \n",
       "842517               0.021108       0.213798                0.074897   \n",
       "84300903             0.052357       0.222581                0.056730   \n",
       "84348301             0.010895       0.179685                0.067824   \n",
       "84358402             0.037828       0.147534                0.070231   \n",
       "\n",
       "          radius_se  texture_se  perimeter_se  area_se  smoothness_se  \\\n",
       "id                                                                      \n",
       "842302     0.006422    1.615280      2.763911   153.40       0.007540   \n",
       "842517     0.303622    1.171764      6.690985    74.08       0.003675   \n",
       "84300903   0.289027   -0.546491      5.660769    94.03       0.009390   \n",
       "84348301   0.765715    0.842057     -0.081625    27.23       0.006981   \n",
       "84358402   0.732142    1.830999      2.432024    94.44       0.006293   \n",
       "\n",
       "          compactness_se  concavity_se  concave points_se  symmetry_se  \\\n",
       "id                                                                       \n",
       "842302          0.028043       0.05373            0.01587     0.027044   \n",
       "842517          0.019118       0.01860            0.01340     0.021795   \n",
       "84300903        0.035186       0.03832            0.02058     0.020481   \n",
       "84348301       -0.028741       0.05661            0.01867     0.014801   \n",
       "84358402        0.020667       0.05688            0.01885     0.026821   \n",
       "\n",
       "          fractal_dimension_se  radius_worst  texture_worst  perimeter_worst  \\\n",
       "id                                                                             \n",
       "842302                0.003133         25.38          17.33           184.60   \n",
       "842517                0.000128         24.99          23.41           158.80   \n",
       "84300903              0.004616         23.57          25.53           152.50   \n",
       "84348301              0.003431         14.91          26.50            98.87   \n",
       "84358402              0.005654         22.54          16.67           152.20   \n",
       "\n",
       "          area_worst  smoothness_worst  compactness_wors  concavity_worst  \\\n",
       "id                                                                          \n",
       "842302        2019.0            0.1622          0.134597           0.7119   \n",
       "842517        1956.0            0.1238          0.529227           0.2416   \n",
       "84300903      1709.0            0.1444          0.166906           0.4504   \n",
       "84348301       567.7            0.2098          0.224998           0.6869   \n",
       "84358402      1575.0            0.1374          0.075833           0.4000   \n",
       "\n",
       "          concave points_worst  symmetry_worst  fractal_dimension_worst  \n",
       "id                                                                       \n",
       "842302                0.120681          0.4601                 0.101594  \n",
       "842517                0.035439          0.2750                 0.079397  \n",
       "84300903              0.149670          0.3613                 0.088802  \n",
       "84348301              0.110799          0.6638                 0.086210  \n",
       "84358402              0.126386          0.2364                 0.087483  "
      ]
     },
     "execution_count": 4,
     "metadata": {},
     "output_type": "execute_result"
    }
   ],
   "source": [
    "df.head()"
   ]
  },
  {
   "cell_type": "code",
   "execution_count": 5,
   "metadata": {},
   "outputs": [
    {
     "data": {
      "text/plain": [
       "(569, 31)"
      ]
     },
     "execution_count": 5,
     "metadata": {},
     "output_type": "execute_result"
    }
   ],
   "source": [
    "df.shape"
   ]
  },
  {
   "cell_type": "code",
   "execution_count": 6,
   "metadata": {},
   "outputs": [
    {
     "data": {
      "text/plain": [
       "diagnosis                   object\n",
       "radius_mean                float64\n",
       "texture_mean               float64\n",
       "perimeter_mean             float64\n",
       "area_mean                  float64\n",
       "smoothness_mean            float64\n",
       "compactness_mean           float64\n",
       "concavity_mean             float64\n",
       "concave points_mean        float64\n",
       "symmetry_mean              float64\n",
       "fractal_dimension_mean     float64\n",
       "radius_se                  float64\n",
       "texture_se                 float64\n",
       "perimeter_se               float64\n",
       "area_se                    float64\n",
       "smoothness_se              float64\n",
       "compactness_se             float64\n",
       "concavity_se               float64\n",
       "concave points_se          float64\n",
       "symmetry_se                float64\n",
       "fractal_dimension_se       float64\n",
       "radius_worst               float64\n",
       "texture_worst              float64\n",
       "perimeter_worst            float64\n",
       "area_worst                 float64\n",
       "smoothness_worst           float64\n",
       "compactness_wors           float64\n",
       "concavity_worst            float64\n",
       "concave points_worst       float64\n",
       "symmetry_worst             float64\n",
       "fractal_dimension_worst    float64\n",
       "dtype: object"
      ]
     },
     "execution_count": 6,
     "metadata": {},
     "output_type": "execute_result"
    }
   ],
   "source": [
    "df.dtypes"
   ]
  },
  {
   "cell_type": "code",
   "execution_count": 7,
   "metadata": {},
   "outputs": [
    {
     "data": {
      "text/plain": [
       "diagnosis                  0\n",
       "radius_mean                0\n",
       "texture_mean               0\n",
       "perimeter_mean             0\n",
       "area_mean                  0\n",
       "smoothness_mean            0\n",
       "compactness_mean           0\n",
       "concavity_mean             0\n",
       "concave points_mean        0\n",
       "symmetry_mean              0\n",
       "fractal_dimension_mean     0\n",
       "radius_se                  0\n",
       "texture_se                 0\n",
       "perimeter_se               0\n",
       "area_se                    0\n",
       "smoothness_se              0\n",
       "compactness_se             0\n",
       "concavity_se               0\n",
       "concave points_se          0\n",
       "symmetry_se                0\n",
       "fractal_dimension_se       0\n",
       "radius_worst               0\n",
       "texture_worst              0\n",
       "perimeter_worst            0\n",
       "area_worst                 0\n",
       "smoothness_worst           0\n",
       "compactness_wors           0\n",
       "concavity_worst            0\n",
       "concave points_worst       0\n",
       "symmetry_worst             0\n",
       "fractal_dimension_worst    0\n",
       "dtype: int64"
      ]
     },
     "execution_count": 7,
     "metadata": {},
     "output_type": "execute_result"
    }
   ],
   "source": [
    "df.isnull().sum()"
   ]
  },
  {
   "cell_type": "code",
   "execution_count": 198,
   "metadata": {},
   "outputs": [],
   "source": [
    "#coverting categorical into numerical"
   ]
  },
  {
   "cell_type": "code",
   "execution_count": 199,
   "metadata": {},
   "outputs": [
    {
     "data": {
      "text/plain": [
       "['diagnosis']"
      ]
     },
     "execution_count": 199,
     "metadata": {},
     "output_type": "execute_result"
    }
   ],
   "source": [
    "#giving the list which contains all categorical objects\n",
    "\n",
    "colname=[]\n",
    "for x in df.columns:\n",
    "    if df[x].dtype=='object':\n",
    "        colname.append(x)\n",
    "        \n",
    "colname"
   ]
  },
  {
   "cell_type": "code",
   "execution_count": 200,
   "metadata": {},
   "outputs": [],
   "source": [
    "#for preprocessing the data\n",
    "\n",
    "from sklearn import preprocessing\n",
    "\n",
    "le=preprocessing.LabelEncoder()\n",
    "\n",
    "for x in colname:\n",
    "    df[x]=le.fit_transform(df[x]) #first fit take unique values and will make the dictionary...transform take data and will do the map function part and le will replace the categorical values to numeric"
   ]
  },
  {
   "cell_type": "code",
   "execution_count": 201,
   "metadata": {},
   "outputs": [
    {
     "data": {
      "text/html": [
       "<div>\n",
       "<style scoped>\n",
       "    .dataframe tbody tr th:only-of-type {\n",
       "        vertical-align: middle;\n",
       "    }\n",
       "\n",
       "    .dataframe tbody tr th {\n",
       "        vertical-align: top;\n",
       "    }\n",
       "\n",
       "    .dataframe thead th {\n",
       "        text-align: right;\n",
       "    }\n",
       "</style>\n",
       "<table border=\"1\" class=\"dataframe\">\n",
       "  <thead>\n",
       "    <tr style=\"text-align: right;\">\n",
       "      <th></th>\n",
       "      <th>diagnosis</th>\n",
       "      <th>radius_mean</th>\n",
       "      <th>texture_mean</th>\n",
       "      <th>perimeter_mean</th>\n",
       "      <th>area_mean</th>\n",
       "      <th>smoothness_mean</th>\n",
       "      <th>compactness_mean</th>\n",
       "      <th>concavity_mean</th>\n",
       "      <th>concave points_mean</th>\n",
       "      <th>symmetry_mean</th>\n",
       "      <th>fractal_dimension_mean</th>\n",
       "      <th>radius_se</th>\n",
       "      <th>texture_se</th>\n",
       "      <th>perimeter_se</th>\n",
       "      <th>area_se</th>\n",
       "      <th>smoothness_se</th>\n",
       "      <th>compactness_se</th>\n",
       "      <th>concavity_se</th>\n",
       "      <th>concave points_se</th>\n",
       "      <th>symmetry_se</th>\n",
       "      <th>fractal_dimension_se</th>\n",
       "      <th>radius_worst</th>\n",
       "      <th>texture_worst</th>\n",
       "      <th>perimeter_worst</th>\n",
       "      <th>area_worst</th>\n",
       "      <th>smoothness_worst</th>\n",
       "      <th>compactness_wors</th>\n",
       "      <th>concavity_worst</th>\n",
       "      <th>concave points_worst</th>\n",
       "      <th>symmetry_worst</th>\n",
       "      <th>fractal_dimension_worst</th>\n",
       "    </tr>\n",
       "    <tr>\n",
       "      <th>id</th>\n",
       "      <th></th>\n",
       "      <th></th>\n",
       "      <th></th>\n",
       "      <th></th>\n",
       "      <th></th>\n",
       "      <th></th>\n",
       "      <th></th>\n",
       "      <th></th>\n",
       "      <th></th>\n",
       "      <th></th>\n",
       "      <th></th>\n",
       "      <th></th>\n",
       "      <th></th>\n",
       "      <th></th>\n",
       "      <th></th>\n",
       "      <th></th>\n",
       "      <th></th>\n",
       "      <th></th>\n",
       "      <th></th>\n",
       "      <th></th>\n",
       "      <th></th>\n",
       "      <th></th>\n",
       "      <th></th>\n",
       "      <th></th>\n",
       "      <th></th>\n",
       "      <th></th>\n",
       "      <th></th>\n",
       "      <th></th>\n",
       "      <th></th>\n",
       "      <th></th>\n",
       "      <th></th>\n",
       "    </tr>\n",
       "  </thead>\n",
       "  <tbody>\n",
       "    <tr>\n",
       "      <td>842302</td>\n",
       "      <td>1</td>\n",
       "      <td>14.204716</td>\n",
       "      <td>20.202641</td>\n",
       "      <td>122.80</td>\n",
       "      <td>1001.0</td>\n",
       "      <td>0.096113</td>\n",
       "      <td>0.089479</td>\n",
       "      <td>0.184766</td>\n",
       "      <td>0.096526</td>\n",
       "      <td>0.150053</td>\n",
       "      <td>0.059764</td>\n",
       "      <td>0.006422</td>\n",
       "      <td>1.615280</td>\n",
       "      <td>2.763911</td>\n",
       "      <td>153.40</td>\n",
       "      <td>0.007540</td>\n",
       "      <td>0.028043</td>\n",
       "      <td>0.05373</td>\n",
       "      <td>0.01587</td>\n",
       "      <td>0.027044</td>\n",
       "      <td>0.003133</td>\n",
       "      <td>25.380</td>\n",
       "      <td>17.33</td>\n",
       "      <td>184.60</td>\n",
       "      <td>2019.0</td>\n",
       "      <td>0.16220</td>\n",
       "      <td>0.134597</td>\n",
       "      <td>0.7119</td>\n",
       "      <td>0.120681</td>\n",
       "      <td>0.4601</td>\n",
       "      <td>0.101594</td>\n",
       "    </tr>\n",
       "    <tr>\n",
       "      <td>842517</td>\n",
       "      <td>1</td>\n",
       "      <td>18.483496</td>\n",
       "      <td>22.464181</td>\n",
       "      <td>132.90</td>\n",
       "      <td>1326.0</td>\n",
       "      <td>0.094443</td>\n",
       "      <td>0.063299</td>\n",
       "      <td>0.086927</td>\n",
       "      <td>0.021108</td>\n",
       "      <td>0.213798</td>\n",
       "      <td>0.074897</td>\n",
       "      <td>0.303622</td>\n",
       "      <td>1.171764</td>\n",
       "      <td>6.690985</td>\n",
       "      <td>74.08</td>\n",
       "      <td>0.003675</td>\n",
       "      <td>0.019118</td>\n",
       "      <td>0.01860</td>\n",
       "      <td>0.01340</td>\n",
       "      <td>0.021795</td>\n",
       "      <td>0.000128</td>\n",
       "      <td>24.990</td>\n",
       "      <td>23.41</td>\n",
       "      <td>158.80</td>\n",
       "      <td>1956.0</td>\n",
       "      <td>0.12380</td>\n",
       "      <td>0.529227</td>\n",
       "      <td>0.2416</td>\n",
       "      <td>0.035439</td>\n",
       "      <td>0.2750</td>\n",
       "      <td>0.079397</td>\n",
       "    </tr>\n",
       "    <tr>\n",
       "      <td>84300903</td>\n",
       "      <td>1</td>\n",
       "      <td>15.516300</td>\n",
       "      <td>18.271486</td>\n",
       "      <td>130.00</td>\n",
       "      <td>1203.0</td>\n",
       "      <td>0.075842</td>\n",
       "      <td>0.059376</td>\n",
       "      <td>0.132738</td>\n",
       "      <td>0.052357</td>\n",
       "      <td>0.222581</td>\n",
       "      <td>0.056730</td>\n",
       "      <td>0.289027</td>\n",
       "      <td>-0.546491</td>\n",
       "      <td>5.660769</td>\n",
       "      <td>94.03</td>\n",
       "      <td>0.009390</td>\n",
       "      <td>0.035186</td>\n",
       "      <td>0.03832</td>\n",
       "      <td>0.02058</td>\n",
       "      <td>0.020481</td>\n",
       "      <td>0.004616</td>\n",
       "      <td>23.570</td>\n",
       "      <td>25.53</td>\n",
       "      <td>152.50</td>\n",
       "      <td>1709.0</td>\n",
       "      <td>0.14440</td>\n",
       "      <td>0.166906</td>\n",
       "      <td>0.4504</td>\n",
       "      <td>0.149670</td>\n",
       "      <td>0.3613</td>\n",
       "      <td>0.088802</td>\n",
       "    </tr>\n",
       "    <tr>\n",
       "      <td>84348301</td>\n",
       "      <td>1</td>\n",
       "      <td>15.540583</td>\n",
       "      <td>27.560108</td>\n",
       "      <td>77.58</td>\n",
       "      <td>386.1</td>\n",
       "      <td>0.091525</td>\n",
       "      <td>0.088022</td>\n",
       "      <td>0.194466</td>\n",
       "      <td>0.010895</td>\n",
       "      <td>0.179685</td>\n",
       "      <td>0.067824</td>\n",
       "      <td>0.765715</td>\n",
       "      <td>0.842057</td>\n",
       "      <td>-0.081625</td>\n",
       "      <td>27.23</td>\n",
       "      <td>0.006981</td>\n",
       "      <td>-0.028741</td>\n",
       "      <td>0.05661</td>\n",
       "      <td>0.01867</td>\n",
       "      <td>0.014801</td>\n",
       "      <td>0.003431</td>\n",
       "      <td>14.910</td>\n",
       "      <td>26.50</td>\n",
       "      <td>98.87</td>\n",
       "      <td>567.7</td>\n",
       "      <td>0.20980</td>\n",
       "      <td>0.224998</td>\n",
       "      <td>0.6869</td>\n",
       "      <td>0.110799</td>\n",
       "      <td>0.6638</td>\n",
       "      <td>0.086210</td>\n",
       "    </tr>\n",
       "    <tr>\n",
       "      <td>84358402</td>\n",
       "      <td>1</td>\n",
       "      <td>14.005198</td>\n",
       "      <td>11.678064</td>\n",
       "      <td>135.10</td>\n",
       "      <td>1297.0</td>\n",
       "      <td>0.092790</td>\n",
       "      <td>0.010642</td>\n",
       "      <td>0.030518</td>\n",
       "      <td>0.037828</td>\n",
       "      <td>0.147534</td>\n",
       "      <td>0.070231</td>\n",
       "      <td>0.732142</td>\n",
       "      <td>1.830999</td>\n",
       "      <td>2.432024</td>\n",
       "      <td>94.44</td>\n",
       "      <td>0.006293</td>\n",
       "      <td>0.020667</td>\n",
       "      <td>0.05688</td>\n",
       "      <td>0.01885</td>\n",
       "      <td>0.026821</td>\n",
       "      <td>0.005654</td>\n",
       "      <td>22.540</td>\n",
       "      <td>16.67</td>\n",
       "      <td>152.20</td>\n",
       "      <td>1575.0</td>\n",
       "      <td>0.13740</td>\n",
       "      <td>0.075833</td>\n",
       "      <td>0.4000</td>\n",
       "      <td>0.126386</td>\n",
       "      <td>0.2364</td>\n",
       "      <td>0.087483</td>\n",
       "    </tr>\n",
       "    <tr>\n",
       "      <td>...</td>\n",
       "      <td>...</td>\n",
       "      <td>...</td>\n",
       "      <td>...</td>\n",
       "      <td>...</td>\n",
       "      <td>...</td>\n",
       "      <td>...</td>\n",
       "      <td>...</td>\n",
       "      <td>...</td>\n",
       "      <td>...</td>\n",
       "      <td>...</td>\n",
       "      <td>...</td>\n",
       "      <td>...</td>\n",
       "      <td>...</td>\n",
       "      <td>...</td>\n",
       "      <td>...</td>\n",
       "      <td>...</td>\n",
       "      <td>...</td>\n",
       "      <td>...</td>\n",
       "      <td>...</td>\n",
       "      <td>...</td>\n",
       "      <td>...</td>\n",
       "      <td>...</td>\n",
       "      <td>...</td>\n",
       "      <td>...</td>\n",
       "      <td>...</td>\n",
       "      <td>...</td>\n",
       "      <td>...</td>\n",
       "      <td>...</td>\n",
       "      <td>...</td>\n",
       "      <td>...</td>\n",
       "      <td>...</td>\n",
       "    </tr>\n",
       "    <tr>\n",
       "      <td>926424</td>\n",
       "      <td>1</td>\n",
       "      <td>9.477218</td>\n",
       "      <td>17.173224</td>\n",
       "      <td>142.00</td>\n",
       "      <td>1479.0</td>\n",
       "      <td>0.110550</td>\n",
       "      <td>0.037279</td>\n",
       "      <td>0.160806</td>\n",
       "      <td>0.047462</td>\n",
       "      <td>0.157627</td>\n",
       "      <td>0.061794</td>\n",
       "      <td>0.505060</td>\n",
       "      <td>0.566071</td>\n",
       "      <td>1.972287</td>\n",
       "      <td>158.70</td>\n",
       "      <td>0.005673</td>\n",
       "      <td>0.009436</td>\n",
       "      <td>0.05198</td>\n",
       "      <td>0.02454</td>\n",
       "      <td>0.020836</td>\n",
       "      <td>0.005456</td>\n",
       "      <td>25.450</td>\n",
       "      <td>26.40</td>\n",
       "      <td>166.10</td>\n",
       "      <td>2027.0</td>\n",
       "      <td>0.14100</td>\n",
       "      <td>0.238996</td>\n",
       "      <td>0.4107</td>\n",
       "      <td>0.163526</td>\n",
       "      <td>0.2060</td>\n",
       "      <td>0.073780</td>\n",
       "    </tr>\n",
       "    <tr>\n",
       "      <td>926682</td>\n",
       "      <td>1</td>\n",
       "      <td>11.657306</td>\n",
       "      <td>25.502865</td>\n",
       "      <td>131.20</td>\n",
       "      <td>1261.0</td>\n",
       "      <td>0.113881</td>\n",
       "      <td>0.108912</td>\n",
       "      <td>0.134949</td>\n",
       "      <td>0.039279</td>\n",
       "      <td>0.208220</td>\n",
       "      <td>0.073724</td>\n",
       "      <td>0.522778</td>\n",
       "      <td>1.110313</td>\n",
       "      <td>4.025630</td>\n",
       "      <td>99.04</td>\n",
       "      <td>0.009236</td>\n",
       "      <td>0.027082</td>\n",
       "      <td>0.03950</td>\n",
       "      <td>0.01678</td>\n",
       "      <td>0.012430</td>\n",
       "      <td>-0.000019</td>\n",
       "      <td>23.690</td>\n",
       "      <td>38.25</td>\n",
       "      <td>155.00</td>\n",
       "      <td>1731.0</td>\n",
       "      <td>0.11660</td>\n",
       "      <td>0.219149</td>\n",
       "      <td>0.3215</td>\n",
       "      <td>0.032357</td>\n",
       "      <td>0.2572</td>\n",
       "      <td>0.068449</td>\n",
       "    </tr>\n",
       "    <tr>\n",
       "      <td>926954</td>\n",
       "      <td>1</td>\n",
       "      <td>20.102883</td>\n",
       "      <td>14.544119</td>\n",
       "      <td>108.30</td>\n",
       "      <td>858.1</td>\n",
       "      <td>0.100213</td>\n",
       "      <td>0.003465</td>\n",
       "      <td>0.072762</td>\n",
       "      <td>0.042914</td>\n",
       "      <td>0.211039</td>\n",
       "      <td>0.061090</td>\n",
       "      <td>0.628936</td>\n",
       "      <td>1.107104</td>\n",
       "      <td>1.943147</td>\n",
       "      <td>48.55</td>\n",
       "      <td>0.008076</td>\n",
       "      <td>-0.002990</td>\n",
       "      <td>0.04730</td>\n",
       "      <td>0.01557</td>\n",
       "      <td>0.014103</td>\n",
       "      <td>0.007739</td>\n",
       "      <td>18.980</td>\n",
       "      <td>34.12</td>\n",
       "      <td>126.70</td>\n",
       "      <td>1124.0</td>\n",
       "      <td>0.11390</td>\n",
       "      <td>0.279461</td>\n",
       "      <td>0.3403</td>\n",
       "      <td>0.113976</td>\n",
       "      <td>0.2218</td>\n",
       "      <td>0.098450</td>\n",
       "    </tr>\n",
       "    <tr>\n",
       "      <td>927241</td>\n",
       "      <td>1</td>\n",
       "      <td>16.206551</td>\n",
       "      <td>19.616466</td>\n",
       "      <td>140.10</td>\n",
       "      <td>1265.0</td>\n",
       "      <td>0.112486</td>\n",
       "      <td>0.158756</td>\n",
       "      <td>0.096860</td>\n",
       "      <td>0.024182</td>\n",
       "      <td>0.151310</td>\n",
       "      <td>0.066581</td>\n",
       "      <td>0.338542</td>\n",
       "      <td>0.822432</td>\n",
       "      <td>2.288387</td>\n",
       "      <td>86.22</td>\n",
       "      <td>0.007873</td>\n",
       "      <td>0.029954</td>\n",
       "      <td>0.07117</td>\n",
       "      <td>0.01664</td>\n",
       "      <td>0.009220</td>\n",
       "      <td>0.006787</td>\n",
       "      <td>25.740</td>\n",
       "      <td>39.42</td>\n",
       "      <td>184.60</td>\n",
       "      <td>1821.0</td>\n",
       "      <td>0.16500</td>\n",
       "      <td>0.116461</td>\n",
       "      <td>0.9387</td>\n",
       "      <td>0.067784</td>\n",
       "      <td>0.4087</td>\n",
       "      <td>0.074609</td>\n",
       "    </tr>\n",
       "    <tr>\n",
       "      <td>92751</td>\n",
       "      <td>0</td>\n",
       "      <td>13.256191</td>\n",
       "      <td>25.087474</td>\n",
       "      <td>47.92</td>\n",
       "      <td>181.0</td>\n",
       "      <td>0.110289</td>\n",
       "      <td>0.044248</td>\n",
       "      <td>-0.072171</td>\n",
       "      <td>0.029954</td>\n",
       "      <td>0.156980</td>\n",
       "      <td>0.060564</td>\n",
       "      <td>0.615921</td>\n",
       "      <td>0.917139</td>\n",
       "      <td>1.970200</td>\n",
       "      <td>19.15</td>\n",
       "      <td>0.008049</td>\n",
       "      <td>0.039570</td>\n",
       "      <td>0.00000</td>\n",
       "      <td>0.00000</td>\n",
       "      <td>0.006132</td>\n",
       "      <td>0.008352</td>\n",
       "      <td>9.456</td>\n",
       "      <td>30.37</td>\n",
       "      <td>59.16</td>\n",
       "      <td>268.6</td>\n",
       "      <td>0.08996</td>\n",
       "      <td>0.389369</td>\n",
       "      <td>0.0000</td>\n",
       "      <td>0.192663</td>\n",
       "      <td>0.2871</td>\n",
       "      <td>0.062577</td>\n",
       "    </tr>\n",
       "  </tbody>\n",
       "</table>\n",
       "<p>569 rows × 31 columns</p>\n",
       "</div>"
      ],
      "text/plain": [
       "          diagnosis  radius_mean  texture_mean  perimeter_mean  area_mean  \\\n",
       "id                                                                          \n",
       "842302            1    14.204716     20.202641          122.80     1001.0   \n",
       "842517            1    18.483496     22.464181          132.90     1326.0   \n",
       "84300903          1    15.516300     18.271486          130.00     1203.0   \n",
       "84348301          1    15.540583     27.560108           77.58      386.1   \n",
       "84358402          1    14.005198     11.678064          135.10     1297.0   \n",
       "...             ...          ...           ...             ...        ...   \n",
       "926424            1     9.477218     17.173224          142.00     1479.0   \n",
       "926682            1    11.657306     25.502865          131.20     1261.0   \n",
       "926954            1    20.102883     14.544119          108.30      858.1   \n",
       "927241            1    16.206551     19.616466          140.10     1265.0   \n",
       "92751             0    13.256191     25.087474           47.92      181.0   \n",
       "\n",
       "          smoothness_mean  compactness_mean  concavity_mean  \\\n",
       "id                                                            \n",
       "842302           0.096113          0.089479        0.184766   \n",
       "842517           0.094443          0.063299        0.086927   \n",
       "84300903         0.075842          0.059376        0.132738   \n",
       "84348301         0.091525          0.088022        0.194466   \n",
       "84358402         0.092790          0.010642        0.030518   \n",
       "...                   ...               ...             ...   \n",
       "926424           0.110550          0.037279        0.160806   \n",
       "926682           0.113881          0.108912        0.134949   \n",
       "926954           0.100213          0.003465        0.072762   \n",
       "927241           0.112486          0.158756        0.096860   \n",
       "92751            0.110289          0.044248       -0.072171   \n",
       "\n",
       "          concave points_mean  symmetry_mean  fractal_dimension_mean  \\\n",
       "id                                                                     \n",
       "842302               0.096526       0.150053                0.059764   \n",
       "842517               0.021108       0.213798                0.074897   \n",
       "84300903             0.052357       0.222581                0.056730   \n",
       "84348301             0.010895       0.179685                0.067824   \n",
       "84358402             0.037828       0.147534                0.070231   \n",
       "...                       ...            ...                     ...   \n",
       "926424               0.047462       0.157627                0.061794   \n",
       "926682               0.039279       0.208220                0.073724   \n",
       "926954               0.042914       0.211039                0.061090   \n",
       "927241               0.024182       0.151310                0.066581   \n",
       "92751                0.029954       0.156980                0.060564   \n",
       "\n",
       "          radius_se  texture_se  perimeter_se  area_se  smoothness_se  \\\n",
       "id                                                                      \n",
       "842302     0.006422    1.615280      2.763911   153.40       0.007540   \n",
       "842517     0.303622    1.171764      6.690985    74.08       0.003675   \n",
       "84300903   0.289027   -0.546491      5.660769    94.03       0.009390   \n",
       "84348301   0.765715    0.842057     -0.081625    27.23       0.006981   \n",
       "84358402   0.732142    1.830999      2.432024    94.44       0.006293   \n",
       "...             ...         ...           ...      ...            ...   \n",
       "926424     0.505060    0.566071      1.972287   158.70       0.005673   \n",
       "926682     0.522778    1.110313      4.025630    99.04       0.009236   \n",
       "926954     0.628936    1.107104      1.943147    48.55       0.008076   \n",
       "927241     0.338542    0.822432      2.288387    86.22       0.007873   \n",
       "92751      0.615921    0.917139      1.970200    19.15       0.008049   \n",
       "\n",
       "          compactness_se  concavity_se  concave points_se  symmetry_se  \\\n",
       "id                                                                       \n",
       "842302          0.028043       0.05373            0.01587     0.027044   \n",
       "842517          0.019118       0.01860            0.01340     0.021795   \n",
       "84300903        0.035186       0.03832            0.02058     0.020481   \n",
       "84348301       -0.028741       0.05661            0.01867     0.014801   \n",
       "84358402        0.020667       0.05688            0.01885     0.026821   \n",
       "...                  ...           ...                ...          ...   \n",
       "926424          0.009436       0.05198            0.02454     0.020836   \n",
       "926682          0.027082       0.03950            0.01678     0.012430   \n",
       "926954         -0.002990       0.04730            0.01557     0.014103   \n",
       "927241          0.029954       0.07117            0.01664     0.009220   \n",
       "92751           0.039570       0.00000            0.00000     0.006132   \n",
       "\n",
       "          fractal_dimension_se  radius_worst  texture_worst  perimeter_worst  \\\n",
       "id                                                                             \n",
       "842302                0.003133        25.380          17.33           184.60   \n",
       "842517                0.000128        24.990          23.41           158.80   \n",
       "84300903              0.004616        23.570          25.53           152.50   \n",
       "84348301              0.003431        14.910          26.50            98.87   \n",
       "84358402              0.005654        22.540          16.67           152.20   \n",
       "...                        ...           ...            ...              ...   \n",
       "926424                0.005456        25.450          26.40           166.10   \n",
       "926682               -0.000019        23.690          38.25           155.00   \n",
       "926954                0.007739        18.980          34.12           126.70   \n",
       "927241                0.006787        25.740          39.42           184.60   \n",
       "92751                 0.008352         9.456          30.37            59.16   \n",
       "\n",
       "          area_worst  smoothness_worst  compactness_wors  concavity_worst  \\\n",
       "id                                                                          \n",
       "842302        2019.0           0.16220          0.134597           0.7119   \n",
       "842517        1956.0           0.12380          0.529227           0.2416   \n",
       "84300903      1709.0           0.14440          0.166906           0.4504   \n",
       "84348301       567.7           0.20980          0.224998           0.6869   \n",
       "84358402      1575.0           0.13740          0.075833           0.4000   \n",
       "...              ...               ...               ...              ...   \n",
       "926424        2027.0           0.14100          0.238996           0.4107   \n",
       "926682        1731.0           0.11660          0.219149           0.3215   \n",
       "926954        1124.0           0.11390          0.279461           0.3403   \n",
       "927241        1821.0           0.16500          0.116461           0.9387   \n",
       "92751          268.6           0.08996          0.389369           0.0000   \n",
       "\n",
       "          concave points_worst  symmetry_worst  fractal_dimension_worst  \n",
       "id                                                                       \n",
       "842302                0.120681          0.4601                 0.101594  \n",
       "842517                0.035439          0.2750                 0.079397  \n",
       "84300903              0.149670          0.3613                 0.088802  \n",
       "84348301              0.110799          0.6638                 0.086210  \n",
       "84358402              0.126386          0.2364                 0.087483  \n",
       "...                        ...             ...                      ...  \n",
       "926424                0.163526          0.2060                 0.073780  \n",
       "926682                0.032357          0.2572                 0.068449  \n",
       "926954                0.113976          0.2218                 0.098450  \n",
       "927241                0.067784          0.4087                 0.074609  \n",
       "92751                 0.192663          0.2871                 0.062577  \n",
       "\n",
       "[569 rows x 31 columns]"
      ]
     },
     "execution_count": 201,
     "metadata": {},
     "output_type": "execute_result"
    }
   ],
   "source": [
    "df"
   ]
  },
  {
   "cell_type": "code",
   "execution_count": 202,
   "metadata": {},
   "outputs": [],
   "source": [
    "#create X=indp var and Y=dep var\n",
    "X = df[['radius_mean','texture_mean','perimeter_mean','area_mean','smoothness_mean','compactness_mean','concavity_mean','concave points_mean','symmetry_mean','fractal_dimension_mean','radius_se','texture_se','perimeter_se','area_se','smoothness_se','compactness_se','concavity_se','concave points_se','symmetry_se','fractal_dimension_se','radius_worst','texture_worst','perimeter_worst','area_worst','smoothness_worst','compactness_wors','concavity_worst','concave points_worst','symmetry_worst','fractal_dimension_worst']]\n",
    "Y = df[['diagnosis']]"
   ]
  },
  {
   "cell_type": "code",
   "execution_count": 203,
   "metadata": {},
   "outputs": [
    {
     "data": {
      "text/plain": [
       "(569, 30)"
      ]
     },
     "execution_count": 203,
     "metadata": {},
     "output_type": "execute_result"
    }
   ],
   "source": [
    "X.shape"
   ]
  },
  {
   "cell_type": "code",
   "execution_count": 204,
   "metadata": {},
   "outputs": [
    {
     "data": {
      "text/plain": [
       "(569, 1)"
      ]
     },
     "execution_count": 204,
     "metadata": {},
     "output_type": "execute_result"
    }
   ],
   "source": [
    "Y.shape"
   ]
  },
  {
   "cell_type": "code",
   "execution_count": 205,
   "metadata": {},
   "outputs": [
    {
     "ename": "AttributeError",
     "evalue": "'numpy.ndarray' object has no attribute 'savefig'",
     "output_type": "error",
     "traceback": [
      "\u001b[1;31m---------------------------------------------------------------------------\u001b[0m",
      "\u001b[1;31mAttributeError\u001b[0m                            Traceback (most recent call last)",
      "\u001b[1;32m<ipython-input-205-872fc1dc4b5e>\u001b[0m in \u001b[0;36m<module>\u001b[1;34m\u001b[0m\n\u001b[0;32m      1\u001b[0m \u001b[0msns_plot\u001b[0m\u001b[1;33m=\u001b[0m\u001b[0mX\u001b[0m\u001b[1;33m.\u001b[0m\u001b[0mhist\u001b[0m\u001b[1;33m(\u001b[0m\u001b[0mbins\u001b[0m\u001b[1;33m=\u001b[0m\u001b[1;36m20\u001b[0m\u001b[1;33m,\u001b[0m\u001b[0mgrid\u001b[0m\u001b[1;33m=\u001b[0m\u001b[1;32mFalse\u001b[0m\u001b[1;33m,\u001b[0m \u001b[0mxlabelsize\u001b[0m\u001b[1;33m=\u001b[0m\u001b[1;36m12\u001b[0m\u001b[1;33m,\u001b[0m \u001b[0mylabelsize\u001b[0m\u001b[1;33m=\u001b[0m\u001b[1;36m12\u001b[0m\u001b[1;33m)\u001b[0m\u001b[1;33m\u001b[0m\u001b[1;33m\u001b[0m\u001b[0m\n\u001b[1;32m----> 2\u001b[1;33m \u001b[0msns_plot\u001b[0m\u001b[1;33m.\u001b[0m\u001b[0msavefig\u001b[0m\u001b[1;33m(\u001b[0m\u001b[1;34m\"Hist.jpg\"\u001b[0m\u001b[1;33m)\u001b[0m\u001b[1;33m\u001b[0m\u001b[1;33m\u001b[0m\u001b[0m\n\u001b[0m",
      "\u001b[1;31mAttributeError\u001b[0m: 'numpy.ndarray' object has no attribute 'savefig'"
     ]
    },
    {
     "data": {
      "image/png": "[encoded data removed]",
      "text/plain": [
       "<Figure size 432x288 with 30 Axes>"
      ]
     },
     "metadata": {
      "needs_background": "light"
     },
     "output_type": "display_data"
    }
   ],
   "source": [
    "sns_plot=X.hist(bins=20,grid=False, xlabelsize=12, ylabelsize=12)\n",
    "sns_plot.savefig(\"Hist.jpg\")"
   ]
  },
  {
   "cell_type": "code",
   "execution_count": 115,
   "metadata": {},
   "outputs": [
    {
     "data": {
      "text/plain": [
       "<matplotlib.axes._subplots.AxesSubplot at 0x1ec68736348>"
      ]
     },
     "execution_count": 115,
     "metadata": {},
     "output_type": "execute_result"
    },
    {
     "data": {
      "image/png": "[encoded data removed]",
      "text/plain": [
       "<Figure size 432x288 with 1 Axes>"
      ]
     },
     "metadata": {
      "needs_background": "light"
     },
     "output_type": "display_data"
    }
   ],
   "source": [
    "sns.distplot(df[\"radius_mean\"],hist=True)"
   ]
  },
  {
   "cell_type": "code",
   "execution_count": 116,
   "metadata": {},
   "outputs": [
    {
     "data": {
      "text/plain": [
       "<matplotlib.axes._subplots.AxesSubplot at 0x1ec687d5048>"
      ]
     },
     "execution_count": 116,
     "metadata": {},
     "output_type": "execute_result"
    },
    {
     "data": {
      "image/png": "[encoded data removed]",
      "text/plain": [
       "<Figure size 432x288 with 1 Axes>"
      ]
     },
     "metadata": {
      "needs_background": "light"
     },
     "output_type": "display_data"
    }
   ],
   "source": [
    "sns.distplot(df[\"texture_mean\"],hist=True)"
   ]
  },
  {
   "cell_type": "code",
   "execution_count": 117,
   "metadata": {},
   "outputs": [
    {
     "data": {
      "text/plain": [
       "<matplotlib.axes._subplots.AxesSubplot at 0x1ec6886cf48>"
      ]
     },
     "execution_count": 117,
     "metadata": {},
     "output_type": "execute_result"
    },
    {
     "data": {
      "image/png": "[encoded data removed]",
      "text/plain": [
       "<Figure size 432x288 with 1 Axes>"
      ]
     },
     "metadata": {
      "needs_background": "light"
     },
     "output_type": "display_data"
    }
   ],
   "source": [
    "sns.distplot(df[\"perimeter_mean\"],hist=True)"
   ]
  },
  {
   "cell_type": "code",
   "execution_count": 118,
   "metadata": {},
   "outputs": [
    {
     "data": {
      "text/plain": [
       "<matplotlib.axes._subplots.AxesSubplot at 0x1ec698ce6c8>"
      ]
     },
     "execution_count": 118,
     "metadata": {},
     "output_type": "execute_result"
    },
    {
     "data": {
      "image/png": "[encoded data removed]",
      "text/plain": [
       "<Figure size 432x288 with 1 Axes>"
      ]
     },
     "metadata": {
      "needs_background": "light"
     },
     "output_type": "display_data"
    }
   ],
   "source": [
    "sns.distplot(df[\"area_mean\"],hist=True)"
   ]
  },
  {
   "cell_type": "code",
   "execution_count": 119,
   "metadata": {},
   "outputs": [
    {
     "data": {
      "text/plain": [
       "<matplotlib.axes._subplots.AxesSubplot at 0x1ec6996a608>"
      ]
     },
     "execution_count": 119,
     "metadata": {},
     "output_type": "execute_result"
    },
    {
     "data": {
      "image/png": "[encoded data removed]",
      "text/plain": [
       "<Figure size 432x288 with 1 Axes>"
      ]
     },
     "metadata": {
      "needs_background": "light"
     },
     "output_type": "display_data"
    }
   ],
   "source": [
    "sns.distplot(df[\"smoothness_mean\"],hist=True)"
   ]
  },
  {
   "cell_type": "code",
   "execution_count": 120,
   "metadata": {},
   "outputs": [
    {
     "data": {
      "text/plain": [
       "<matplotlib.axes._subplots.AxesSubplot at 0x1ec69a34cc8>"
      ]
     },
     "execution_count": 120,
     "metadata": {},
     "output_type": "execute_result"
    },
    {
     "data": {
      "image/png": "[encoded data removed]",
      "text/plain": [
       "<Figure size 432x288 with 1 Axes>"
      ]
     },
     "metadata": {
      "needs_background": "light"
     },
     "output_type": "display_data"
    }
   ],
   "source": [
    "sns.distplot(df[\"compactness_mean\"],hist=True)"
   ]
  },
  {
   "cell_type": "code",
   "execution_count": 121,
   "metadata": {},
   "outputs": [
    {
     "data": {
      "text/plain": [
       "<matplotlib.axes._subplots.AxesSubplot at 0x1ec69ad8848>"
      ]
     },
     "execution_count": 121,
     "metadata": {},
     "output_type": "execute_result"
    },
    {
     "data": {
      "image/png": "[encoded data removed]",
      "text/plain": [
       "<Figure size 432x288 with 1 Axes>"
      ]
     },
     "metadata": {
      "needs_background": "light"
     },
     "output_type": "display_data"
    }
   ],
   "source": [
    "sns.distplot(df[\"concavity_mean\"],hist=True)"
   ]
  },
  {
   "cell_type": "code",
   "execution_count": 122,
   "metadata": {},
   "outputs": [
    {
     "data": {
      "text/plain": [
       "<matplotlib.axes._subplots.AxesSubplot at 0x1ec65a9b308>"
      ]
     },
     "execution_count": 122,
     "metadata": {},
     "output_type": "execute_result"
    },
    {
     "data": {
      "image/png": "[encoded data removed]",
      "text/plain": [
       "<Figure size 432x288 with 1 Axes>"
      ]
     },
     "metadata": {
      "needs_background": "light"
     },
     "output_type": "display_data"
    }
   ],
   "source": [
    "sns.distplot(df[\"concave points_mean\"],hist=True)"
   ]
  },
  {
   "cell_type": "code",
   "execution_count": 123,
   "metadata": {},
   "outputs": [
    {
     "data": {
      "text/plain": [
       "<matplotlib.axes._subplots.AxesSubplot at 0x1ec69be0608>"
      ]
     },
     "execution_count": 123,
     "metadata": {},
     "output_type": "execute_result"
    },
    {
     "data": {
      "image/png": "[encoded data removed]",
      "text/plain": [
       "<Figure size 432x288 with 1 Axes>"
      ]
     },
     "metadata": {
      "needs_background": "light"
     },
     "output_type": "display_data"
    }
   ],
   "source": [
    "sns.distplot(df[\"symmetry_mean\"],hist=True)"
   ]
  },
  {
   "cell_type": "code",
   "execution_count": 124,
   "metadata": {},
   "outputs": [
    {
     "data": {
      "text/plain": [
       "<matplotlib.axes._subplots.AxesSubplot at 0x1ec69c38e88>"
      ]
     },
     "execution_count": 124,
     "metadata": {},
     "output_type": "execute_result"
    },
    {
     "data": {
      "image/png": "[encoded data removed]",
      "text/plain": [
       "<Figure size 432x288 with 1 Axes>"
      ]
     },
     "metadata": {
      "needs_background": "light"
     },
     "output_type": "display_data"
    }
   ],
   "source": [
    "sns.distplot(df[\"fractal_dimension_mean\"],hist=True)"
   ]
  },
  {
   "cell_type": "code",
   "execution_count": 125,
   "metadata": {},
   "outputs": [
    {
     "data": {
      "text/plain": [
       "<matplotlib.axes._subplots.AxesSubplot at 0x1ec69c84408>"
      ]
     },
     "execution_count": 125,
     "metadata": {},
     "output_type": "execute_result"
    },
    {
     "data": {
      "image/png": "[encoded data removed]",
      "text/plain": [
       "<Figure size 432x288 with 1 Axes>"
      ]
     },
     "metadata": {
      "needs_background": "light"
     },
     "output_type": "display_data"
    }
   ],
   "source": [
    "sns.distplot(df[\"radius_se\"],hist=True)"
   ]
  },
  {
   "cell_type": "code",
   "execution_count": 126,
   "metadata": {},
   "outputs": [
    {
     "data": {
      "text/plain": [
       "<matplotlib.axes._subplots.AxesSubplot at 0x1ec69d17508>"
      ]
     },
     "execution_count": 126,
     "metadata": {},
     "output_type": "execute_result"
    },
    {
     "data": {
      "image/png": "[encoded data removed]",
      "text/plain": [
       "<Figure size 432x288 with 1 Axes>"
      ]
     },
     "metadata": {
      "needs_background": "light"
     },
     "output_type": "display_data"
    }
   ],
   "source": [
    "sns.distplot(df[\"texture_se\"],hist=True)"
   ]
  },
  {
   "cell_type": "code",
   "execution_count": 127,
   "metadata": {},
   "outputs": [
    {
     "ename": "SyntaxError",
     "evalue": "invalid syntax (<ipython-input-127-515d2d98b027>, line 1)",
     "output_type": "error",
     "traceback": [
      "\u001b[1;36m  File \u001b[1;32m\"<ipython-input-127-515d2d98b027>\"\u001b[1;36m, line \u001b[1;32m1\u001b[0m\n\u001b[1;33m    sns.distplot(df[\"perimetersns.distplot(df[\"radius_se\"],hist=True)_se\"],hist=True)\u001b[0m\n\u001b[1;37m                                                       ^\u001b[0m\n\u001b[1;31mSyntaxError\u001b[0m\u001b[1;31m:\u001b[0m invalid syntax\n"
     ]
    }
   ],
   "source": [
    "sns.distplot(df[\"perimetersns.distplot(df[\"radius_se\"],hist=True)_se\"],hist=True)"
   ]
  },
  {
   "cell_type": "code",
   "execution_count": 128,
   "metadata": {},
   "outputs": [
    {
     "data": {
      "text/plain": [
       "<matplotlib.axes._subplots.AxesSubplot at 0x1ec69e12548>"
      ]
     },
     "execution_count": 128,
     "metadata": {},
     "output_type": "execute_result"
    },
    {
     "data": {
      "image/png": "[encoded data removed]",
      "text/plain": [
       "<Figure size 432x288 with 1 Axes>"
      ]
     },
     "metadata": {
      "needs_background": "light"
     },
     "output_type": "display_data"
    }
   ],
   "source": [
    "sns.distplot(df[\"area_se\"],hist=True)"
   ]
  },
  {
   "cell_type": "code",
   "execution_count": 129,
   "metadata": {},
   "outputs": [
    {
     "data": {
      "text/plain": [
       "<matplotlib.axes._subplots.AxesSubplot at 0x1ec69f0c648>"
      ]
     },
     "execution_count": 129,
     "metadata": {},
     "output_type": "execute_result"
    },
    {
     "data": {
      "image/png": "[encoded data removed]",
      "text/plain": [
       "<Figure size 432x288 with 1 Axes>"
      ]
     },
     "metadata": {
      "needs_background": "light"
     },
     "output_type": "display_data"
    }
   ],
   "source": [
    "sns.distplot(df[\"smoothness_se\"],hist=True)"
   ]
  },
  {
   "cell_type": "code",
   "execution_count": 130,
   "metadata": {},
   "outputs": [
    {
     "data": {
      "text/plain": [
       "<matplotlib.axes._subplots.AxesSubplot at 0x1ec69f98c88>"
      ]
     },
     "execution_count": 130,
     "metadata": {},
     "output_type": "execute_result"
    },
    {
     "data": {
      "image/png": "[encoded data removed]",
      "text/plain": [
       "<Figure size 432x288 with 1 Axes>"
      ]
     },
     "metadata": {
      "needs_background": "light"
     },
     "output_type": "display_data"
    }
   ],
   "source": [
    "sns.distplot(df[\"compactness_se\"],hist=True)"
   ]
  },
  {
   "cell_type": "code",
   "execution_count": 131,
   "metadata": {},
   "outputs": [
    {
     "data": {
      "text/plain": [
       "<matplotlib.axes._subplots.AxesSubplot at 0x1ec69e14188>"
      ]
     },
     "execution_count": 131,
     "metadata": {},
     "output_type": "execute_result"
    },
    {
     "data": {
      "image/png": "[encoded data removed]",
      "text/plain": [
       "<Figure size 432x288 with 1 Axes>"
      ]
     },
     "metadata": {
      "needs_background": "light"
     },
     "output_type": "display_data"
    }
   ],
   "source": [
    "sns.distplot(df[\"concavity_se\"],hist=True)"
   ]
  },
  {
   "cell_type": "code",
   "execution_count": 132,
   "metadata": {},
   "outputs": [
    {
     "data": {
      "text/plain": [
       "<matplotlib.axes._subplots.AxesSubplot at 0x1ec6a117d08>"
      ]
     },
     "execution_count": 132,
     "metadata": {},
     "output_type": "execute_result"
    },
    {
     "data": {
      "image/png": "[encoded data removed]",
      "text/plain": [
       "<Figure size 432x288 with 1 Axes>"
      ]
     },
     "metadata": {
      "needs_background": "light"
     },
     "output_type": "display_data"
    }
   ],
   "source": [
    "sns.distplot(df[\"concave points_se\"],hist=True)"
   ]
  },
  {
   "cell_type": "code",
   "execution_count": 133,
   "metadata": {},
   "outputs": [
    {
     "data": {
      "text/plain": [
       "<matplotlib.axes._subplots.AxesSubplot at 0x1ec6a1e8ac8>"
      ]
     },
     "execution_count": 133,
     "metadata": {},
     "output_type": "execute_result"
    },
    {
     "data": {
      "image/png": "[encoded data removed]",
      "text/plain": [
       "<Figure size 432x288 with 1 Axes>"
      ]
     },
     "metadata": {
      "needs_background": "light"
     },
     "output_type": "display_data"
    }
   ],
   "source": [
    "sns.distplot(df[\"symmetry_se\"],hist=True)"
   ]
  },
  {
   "cell_type": "code",
   "execution_count": 134,
   "metadata": {},
   "outputs": [
    {
     "data": {
      "text/plain": [
       "<matplotlib.axes._subplots.AxesSubplot at 0x1ec6a2767c8>"
      ]
     },
     "execution_count": 134,
     "metadata": {},
     "output_type": "execute_result"
    },
    {
     "data": {
      "image/png": "[encoded data removed]",
      "text/plain": [
       "<Figure size 432x288 with 1 Axes>"
      ]
     },
     "metadata": {
      "needs_background": "light"
     },
     "output_type": "display_data"
    }
   ],
   "source": [
    "sns.distplot(df[\"fractal_dimension_se\"],hist=True)"
   ]
  },
  {
   "cell_type": "code",
   "execution_count": 135,
   "metadata": {},
   "outputs": [
    {
     "data": {
      "text/plain": [
       "<matplotlib.axes._subplots.AxesSubplot at 0x1ec6a325648>"
      ]
     },
     "execution_count": 135,
     "metadata": {},
     "output_type": "execute_result"
    },
    {
     "data": {
      "image/png": "[encoded data removed]",
      "text/plain": [
       "<Figure size 432x288 with 1 Axes>"
      ]
     },
     "metadata": {
      "needs_background": "light"
     },
     "output_type": "display_data"
    }
   ],
   "source": [
    "sns.distplot(df[\"radius_worst\"],hist=True)"
   ]
  },
  {
   "cell_type": "code",
   "execution_count": 136,
   "metadata": {},
   "outputs": [
    {
     "data": {
      "text/plain": [
       "<matplotlib.axes._subplots.AxesSubplot at 0x1ec6a3c5b88>"
      ]
     },
     "execution_count": 136,
     "metadata": {},
     "output_type": "execute_result"
    },
    {
     "data": {
      "image/png": "[encoded data removed]",
      "text/plain": [
       "<Figure size 432x288 with 1 Axes>"
      ]
     },
     "metadata": {
      "needs_background": "light"
     },
     "output_type": "display_data"
    }
   ],
   "source": [
    "sns.distplot(df[\"perimeter_worst\"],hist=True)"
   ]
  },
  {
   "cell_type": "code",
   "execution_count": 137,
   "metadata": {},
   "outputs": [
    {
     "data": {
      "text/plain": [
       "<matplotlib.axes._subplots.AxesSubplot at 0x1ec6a472d48>"
      ]
     },
     "execution_count": 137,
     "metadata": {},
     "output_type": "execute_result"
    },
    {
     "data": {
      "image/png": "[encoded data removed]",
      "text/plain": [
       "<Figure size 432x288 with 1 Axes>"
      ]
     },
     "metadata": {
      "needs_background": "light"
     },
     "output_type": "display_data"
    }
   ],
   "source": [
    "sns.distplot(df[\"texture_worst\"],hist=True)"
   ]
  },
  {
   "cell_type": "code",
   "execution_count": 138,
   "metadata": {},
   "outputs": [
    {
     "data": {
      "text/plain": [
       "<matplotlib.axes._subplots.AxesSubplot at 0x1ec6a4df208>"
      ]
     },
     "execution_count": 138,
     "metadata": {},
     "output_type": "execute_result"
    },
    {
     "data": {
      "image/png": "[encoded data removed]",
      "text/plain": [
       "<Figure size 432x288 with 1 Axes>"
      ]
     },
     "metadata": {
      "needs_background": "light"
     },
     "output_type": "display_data"
    }
   ],
   "source": [
    "sns.distplot(df[\"area_worst\"],hist=True)"
   ]
  },
  {
   "cell_type": "code",
   "execution_count": 139,
   "metadata": {},
   "outputs": [
    {
     "data": {
      "text/plain": [
       "<matplotlib.axes._subplots.AxesSubplot at 0x1ec6a5d43c8>"
      ]
     },
     "execution_count": 139,
     "metadata": {},
     "output_type": "execute_result"
    },
    {
     "data": {
      "image/png": "[encoded data removed]",
      "text/plain": [
       "<Figure size 432x288 with 1 Axes>"
      ]
     },
     "metadata": {
      "needs_background": "light"
     },
     "output_type": "display_data"
    }
   ],
   "source": [
    "sns.distplot(df[\"smoothness_worst\"],hist=True)"
   ]
  },
  {
   "cell_type": "code",
   "execution_count": 140,
   "metadata": {},
   "outputs": [
    {
     "data": {
      "text/plain": [
       "<matplotlib.axes._subplots.AxesSubplot at 0x1ec6b63acc8>"
      ]
     },
     "execution_count": 140,
     "metadata": {},
     "output_type": "execute_result"
    },
    {
     "data": {
      "image/png": "[encoded data removed]",
      "text/plain": [
       "<Figure size 432x288 with 1 Axes>"
      ]
     },
     "metadata": {
      "needs_background": "light"
     },
     "output_type": "display_data"
    }
   ],
   "source": [
    "sns.distplot(df[\"compactness_wors\"],hist=True)"
   ]
  },
  {
   "cell_type": "code",
   "execution_count": 141,
   "metadata": {},
   "outputs": [
    {
     "data": {
      "text/plain": [
       "<matplotlib.axes._subplots.AxesSubplot at 0x1ec65a61848>"
      ]
     },
     "execution_count": 141,
     "metadata": {},
     "output_type": "execute_result"
    },
    {
     "data": {
      "image/png": "[encoded data removed]",
      "text/plain": [
       "<Figure size 432x288 with 1 Axes>"
      ]
     },
     "metadata": {
      "needs_background": "light"
     },
     "output_type": "display_data"
    }
   ],
   "source": [
    "sns.distplot(df[\"concavity_worst\"],hist=True)"
   ]
  },
  {
   "cell_type": "code",
   "execution_count": 142,
   "metadata": {},
   "outputs": [
    {
     "data": {
      "text/plain": [
       "<matplotlib.axes._subplots.AxesSubplot at 0x1ec6b781988>"
      ]
     },
     "execution_count": 142,
     "metadata": {},
     "output_type": "execute_result"
    },
    {
     "data": {
      "image/png": "[encoded data removed]",
      "text/plain": [
       "<Figure size 432x288 with 1 Axes>"
      ]
     },
     "metadata": {
      "needs_background": "light"
     },
     "output_type": "display_data"
    }
   ],
   "source": [
    "sns.distplot(df[\"concave points_worst\"],hist=True)"
   ]
  },
  {
   "cell_type": "code",
   "execution_count": 143,
   "metadata": {},
   "outputs": [
    {
     "data": {
      "text/plain": [
       "<matplotlib.axes._subplots.AxesSubplot at 0x1ec6b82e448>"
      ]
     },
     "execution_count": 143,
     "metadata": {},
     "output_type": "execute_result"
    },
    {
     "data": {
      "image/png": "[encoded data removed]",
      "text/plain": [
       "<Figure size 432x288 with 1 Axes>"
      ]
     },
     "metadata": {
      "needs_background": "light"
     },
     "output_type": "display_data"
    }
   ],
   "source": [
    "sns.distplot(df[\"symmetry_worst\"],hist=True)"
   ]
  },
  {
   "cell_type": "code",
   "execution_count": 144,
   "metadata": {},
   "outputs": [
    {
     "data": {
      "text/plain": [
       "<matplotlib.axes._subplots.AxesSubplot at 0x1ec6b8ea308>"
      ]
     },
     "execution_count": 144,
     "metadata": {},
     "output_type": "execute_result"
    },
    {
     "data": {
      "image/png": "[encoded data removed]",
      "text/plain": [
       "<Figure size 432x288 with 1 Axes>"
      ]
     },
     "metadata": {
      "needs_background": "light"
     },
     "output_type": "display_data"
    }
   ],
   "source": [
    "sns.distplot(df[\"fractal_dimension_worst\"],hist=True)"
   ]
  },
  {
   "cell_type": "code",
   "execution_count": 145,
   "metadata": {},
   "outputs": [],
   "source": [
    "# 10 variables are skewed"
   ]
  },
  {
   "cell_type": "code",
   "execution_count": 170,
   "metadata": {},
   "outputs": [
    {
     "name": "stdout",
     "output_type": "stream",
     "text": [
      "radius_mean               -0.024126\n",
      "texture_mean              -0.103481\n",
      "perimeter_mean             0.988037\n",
      "area_mean                  1.641391\n",
      "smoothness_mean           -0.018858\n",
      "compactness_mean           0.066146\n",
      "concavity_mean            -0.129105\n",
      "concave points_mean       -0.056368\n",
      "symmetry_mean             -0.049555\n",
      "fractal_dimension_mean     0.179018\n",
      "radius_se                 -0.015898\n",
      "texture_se                -0.016106\n",
      "perimeter_se               0.011617\n",
      "area_se                    5.432816\n",
      "smoothness_se             -0.201658\n",
      "compactness_se            -0.052375\n",
      "concavity_se               5.096981\n",
      "concave points_se          1.440867\n",
      "symmetry_se               -0.078727\n",
      "fractal_dimension_se      -0.070156\n",
      "radius_worst               1.100205\n",
      "texture_worst              0.497007\n",
      "perimeter_worst            1.125188\n",
      "area_worst                 1.854468\n",
      "smoothness_worst           0.414330\n",
      "compactness_wors           0.114722\n",
      "concavity_worst            1.147202\n",
      "concave points_worst      -0.040607\n",
      "symmetry_worst             1.430145\n",
      "fractal_dimension_worst    0.185440\n",
      "dtype: float64\n",
      "perimeter_mean       0.988037\n",
      "area_mean            1.641391\n",
      "area_se              5.432816\n",
      "concavity_se         5.096981\n",
      "concave points_se    1.440867\n",
      "radius_worst         1.100205\n",
      "perimeter_worst      1.125188\n",
      "area_worst           1.854468\n",
      "concavity_worst      1.147202\n",
      "symmetry_worst       1.430145\n",
      "dtype: float64\n"
     ]
    }
   ],
   "source": [
    "#for handling acceptable skeeness as there is right skewness in newspaper...skewness is -1 to 1\n",
    "\n",
    "\n",
    "from scipy.stats import skew\n",
    "data_num_skew = X.apply(lambda x: skew(x.dropna()))  #on all x variables\n",
    "data_num_skewed = data_num_skew[(data_num_skew > .75) | (data_num_skew < -.75)]  #finding variables that are highly skewed which need transformation #give values that has skewness between 0.75 and -0.75\n",
    "print(data_num_skew)\n",
    "print(data_num_skewed)\n",
    "import numpy as np\n",
    "# apply log + 1 transformation for all numeric features with skewness over .75\n",
    "X[data_num_skewed.index] = np.log1p(X[data_num_skewed.index]) "
   ]
  },
  {
   "cell_type": "code",
   "execution_count": 34,
   "metadata": {},
   "outputs": [
    {
     "name": "stdout",
     "output_type": "stream",
     "text": [
      "[[ 0.01388099  0.2608823   1.26993369 ... -0.02480519  2.75062224\n",
      "   1.02593659]\n",
      " [ 1.26051192  0.76217786  1.68595471 ... -1.34045436 -0.24388967\n",
      "  -0.17196168]\n",
      " [ 0.39601333 -0.16717969  1.56650313 ...  0.42262874  1.152255\n",
      "   0.33561099]\n",
      " ...\n",
      " [ 1.73232327 -0.99339188  0.67267578 ... -0.12829506 -1.10454895\n",
      "   0.85626876]\n",
      " [ 0.59711931  0.13095009  1.98252415 ... -0.84122877  1.91908301\n",
      "  -0.43035761]\n",
      " [-0.26247369  1.34365981 -1.81438851 ...  1.08618289 -0.04813821\n",
      "  -1.07973735]]\n"
     ]
    }
   ],
   "source": [
    "#Scaling the data\n",
    "\n",
    "from sklearn.preprocessing import StandardScaler\n",
    "\n",
    "scaler = StandardScaler()\n",
    "\n",
    "scaler.fit(X) #fit identifies new values\n",
    "\n",
    "X = scaler.transform(X)\n",
    "print(X)"
   ]
  },
  {
   "cell_type": "code",
   "execution_count": 35,
   "metadata": {},
   "outputs": [],
   "source": [
    "#Splitting the data\n",
    "\n",
    "from sklearn.model_selection import train_test_split\n",
    "\n",
    "X_train, X_test, Y_train, Y_test = train_test_split(X,Y, test_size = 0.2, random_state=10)"
   ]
  },
  {
   "cell_type": "code",
   "execution_count": 36,
   "metadata": {},
   "outputs": [],
   "source": [
    "#Selecting k by sqrt method"
   ]
  },
  {
   "cell_type": "code",
   "execution_count": 37,
   "metadata": {},
   "outputs": [
    {
     "name": "stdout",
     "output_type": "stream",
     "text": [
      "[(1.0, 1.0), (0.0, 0.0), (0.0, 0.0), (1.0, 1.0), (0.0, 0.0), (0.0, 0.0), (0.0, 0.0), (0.0, 0.0), (1.0, 1.0), (1.0, 1.0), (0.0, 0.0), (0.0, 0.0), (1.0, 1.0), (0.0, 0.0), (1.0, 1.0), (1.0, 1.0), (0.0, 0.0), (0.0, 0.0), (0.0, 0.0), (0.0, 0.0), (1.0, 1.0), (1.0, 0.0), (0.0, 0.0), (0.0, 0.0), (1.0, 1.0), (1.0, 1.0), (0.0, 0.0), (1.0, 1.0), (0.0, 0.0), (0.0, 0.0), (0.0, 0.0), (0.0, 0.0), (1.0, 1.0), (0.0, 0.0), (0.0, 0.0), (0.0, 0.0), (0.0, 0.0), (0.0, 0.0), (0.0, 0.0), (0.0, 0.0), (0.0, 0.0), (0.0, 0.0), (0.0, 0.0), (1.0, 1.0), (0.0, 0.0), (1.0, 1.0), (1.0, 0.0), (1.0, 1.0), (1.0, 0.0), (0.0, 0.0), (0.0, 0.0), (0.0, 0.0), (1.0, 1.0), (0.0, 0.0), (0.0, 0.0), (1.0, 1.0), (1.0, 1.0), (0.0, 0.0), (0.0, 0.0), (0.0, 0.0), (1.0, 1.0), (0.0, 0.0), (1.0, 0.0), (1.0, 0.0), (0.0, 0.0), (0.0, 0.0), (0.0, 0.0), (0.0, 0.0), (1.0, 0.0), (1.0, 1.0), (0.0, 0.0), (0.0, 0.0), (0.0, 0.0), (0.0, 0.0), (0.0, 0.0), (1.0, 1.0), (0.0, 0.0), (0.0, 0.0), (1.0, 1.0), (1.0, 1.0), (0.0, 0.0), (0.0, 0.0), (1.0, 1.0), (0.0, 0.0), (0.0, 0.0), (0.0, 0.0), (0.0, 0.0), (0.0, 0.0), (0.0, 0.0), (0.0, 0.0), (0.0, 0.0), (0.0, 0.0), (1.0, 0.0), (0.0, 0.0), (0.0, 0.0), (0.0, 0.0), (1.0, 1.0), (0.0, 0.0), (1.0, 1.0), (0.0, 0.0), (1.0, 1.0), (1.0, 1.0), (0.0, 0.0), (0.0, 0.0), (0.0, 0.0), (0.0, 0.0), (1.0, 1.0), (1.0, 1.0), (0.0, 0.0), (0.0, 0.0), (0.0, 0.0), (0.0, 0.0), (1.0, 1.0), (1.0, 1.0)]\n"
     ]
    }
   ],
   "source": [
    "#predicting using the KNeighbours classifier\n",
    "\n",
    "import numpy as np\n",
    "from sklearn.neighbors import KNeighborsClassifier\n",
    "model_KNN=KNeighborsClassifier(n_neighbors=int(round(np.sqrt(len(X_train)),0)),metric='euclidean')  #here we take the sqrt of no.of observ in X,round it and take integer value\n",
    "\n",
    "\n",
    "model_KNN.fit(X_train,Y_train)\n",
    "\n",
    "Y_pred=model_KNN.predict(X_test)\n",
    "print(list(zip(Y_test,Y_pred)))"
   ]
  },
  {
   "cell_type": "code",
   "execution_count": 38,
   "metadata": {},
   "outputs": [
    {
     "data": {
      "text/plain": [
       "21"
      ]
     },
     "execution_count": 38,
     "metadata": {},
     "output_type": "execute_result"
    }
   ],
   "source": [
    "int(round(np.sqrt(len(X_train)),0))"
   ]
  },
  {
   "cell_type": "code",
   "execution_count": 39,
   "metadata": {},
   "outputs": [
    {
     "name": "stdout",
     "output_type": "stream",
     "text": [
      "[[75  0]\n",
      " [ 7 32]]\n",
      "\n",
      "Classification report :\n",
      "              precision    recall  f1-score   support\n",
      "\n",
      "         0.0       0.91      1.00      0.96        75\n",
      "         1.0       1.00      0.82      0.90        39\n",
      "\n",
      "    accuracy                           0.94       114\n",
      "   macro avg       0.96      0.91      0.93       114\n",
      "weighted avg       0.94      0.94      0.94       114\n",
      "\n",
      "\n",
      "Accuracy of the model: 0.9385964912280702\n"
     ]
    }
   ],
   "source": [
    "#Evaluation of model\n",
    "\n",
    "from sklearn.metrics import confusion_matrix, accuracy_score, classification_report\n",
    "\n",
    "cfm=confusion_matrix(Y_test,Y_pred)\n",
    "print(cfm)\n",
    "print()\n",
    "\n",
    "print(\"Classification report :\")\n",
    "\n",
    "print(classification_report(Y_test,Y_pred))\n",
    "print()\n",
    "\n",
    "acc=accuracy_score(Y_test,Y_pred)\n",
    "print(\"Accuracy of the model:\",acc)"
   ]
  },
  {
   "cell_type": "code",
   "execution_count": 40,
   "metadata": {},
   "outputs": [
    {
     "name": "stdout",
     "output_type": "stream",
     "text": [
      "[(1.0, 1.0), (0.0, 0.0), (0.0, 0.0), (1.0, 1.0), (0.0, 0.0), (0.0, 0.0), (0.0, 0.0), (0.0, 0.0), (1.0, 1.0), (1.0, 1.0), (0.0, 0.0), (0.0, 0.0), (1.0, 1.0), (0.0, 0.0), (1.0, 1.0), (1.0, 1.0), (0.0, 0.0), (0.0, 0.0), (0.0, 0.0), (0.0, 0.0), (1.0, 1.0), (1.0, 0.0), (0.0, 0.0), (0.0, 0.0), (1.0, 1.0), (1.0, 1.0), (0.0, 0.0), (1.0, 1.0), (0.0, 0.0), (0.0, 0.0), (0.0, 0.0), (0.0, 0.0), (1.0, 1.0), (0.0, 0.0), (0.0, 0.0), (0.0, 0.0), (0.0, 0.0), (0.0, 0.0), (0.0, 0.0), (0.0, 0.0), (0.0, 0.0), (0.0, 0.0), (0.0, 0.0), (1.0, 1.0), (0.0, 0.0), (1.0, 1.0), (1.0, 0.0), (1.0, 1.0), (1.0, 0.0), (0.0, 0.0), (0.0, 0.0), (0.0, 0.0), (1.0, 1.0), (0.0, 0.0), (0.0, 0.0), (1.0, 1.0), (1.0, 1.0), (0.0, 0.0), (0.0, 0.0), (0.0, 0.0), (1.0, 1.0), (0.0, 0.0), (1.0, 0.0), (1.0, 0.0), (0.0, 0.0), (0.0, 0.0), (0.0, 0.0), (0.0, 0.0), (1.0, 0.0), (1.0, 1.0), (0.0, 0.0), (0.0, 0.0), (0.0, 0.0), (0.0, 0.0), (0.0, 0.0), (1.0, 1.0), (0.0, 0.0), (0.0, 0.0), (1.0, 1.0), (1.0, 1.0), (0.0, 0.0), (0.0, 0.0), (1.0, 1.0), (0.0, 0.0), (0.0, 0.0), (0.0, 0.0), (0.0, 0.0), (0.0, 0.0), (0.0, 0.0), (0.0, 0.0), (0.0, 0.0), (0.0, 0.0), (1.0, 0.0), (0.0, 0.0), (0.0, 0.0), (0.0, 0.0), (1.0, 1.0), (0.0, 0.0), (1.0, 1.0), (0.0, 0.0), (1.0, 1.0), (1.0, 1.0), (0.0, 0.0), (0.0, 0.0), (0.0, 0.0), (0.0, 0.0), (1.0, 1.0), (1.0, 1.0), (0.0, 0.0), (0.0, 0.0), (0.0, 0.0), (0.0, 0.0), (1.0, 1.0), (1.0, 1.0)]\n"
     ]
    }
   ],
   "source": [
    "#metric = minkowski\n",
    "\n",
    "#predicting using the KNeighbours classifier\n",
    "\n",
    "import numpy as np\n",
    "from sklearn.neighbors import KNeighborsClassifier\n",
    "model_KNN=KNeighborsClassifier(n_neighbors=int(round(np.sqrt(len(X_train)),0)),metric='minkowski')  #here we take the sqrt of no.of observ in X,round it and take integer value\n",
    "\n",
    "\n",
    "model_KNN.fit(X_train,Y_train)\n",
    "\n",
    "Y_pred=model_KNN.predict(X_test)\n",
    "print(list(zip(Y_test,Y_pred)))"
   ]
  },
  {
   "cell_type": "code",
   "execution_count": 41,
   "metadata": {},
   "outputs": [
    {
     "name": "stdout",
     "output_type": "stream",
     "text": [
      "[[75  0]\n",
      " [ 7 32]]\n",
      "\n",
      "Classification report :\n",
      "              precision    recall  f1-score   support\n",
      "\n",
      "         0.0       0.91      1.00      0.96        75\n",
      "         1.0       1.00      0.82      0.90        39\n",
      "\n",
      "    accuracy                           0.94       114\n",
      "   macro avg       0.96      0.91      0.93       114\n",
      "weighted avg       0.94      0.94      0.94       114\n",
      "\n",
      "\n",
      "Accuracy of the model: 0.9385964912280702\n"
     ]
    }
   ],
   "source": [
    "#Evaluation of model\n",
    "\n",
    "from sklearn.metrics import confusion_matrix, accuracy_score, classification_report\n",
    "\n",
    "cfm=confusion_matrix(Y_test,Y_pred)\n",
    "print(cfm)\n",
    "print()\n",
    "\n",
    "print(\"Classification report :\")\n",
    "\n",
    "print(classification_report(Y_test,Y_pred))\n",
    "print()\n",
    "\n",
    "acc=accuracy_score(Y_test,Y_pred)\n",
    "print(\"Accuracy of the model:\",acc)"
   ]
  },
  {
   "cell_type": "code",
   "execution_count": 42,
   "metadata": {},
   "outputs": [],
   "source": [
    "#selecting k manually"
   ]
  },
  {
   "cell_type": "code",
   "execution_count": 43,
   "metadata": {},
   "outputs": [
    {
     "name": "stdout",
     "output_type": "stream",
     "text": [
      "Accuracy is  0.8947368421052632 for K-Value: 1\n",
      "Accuracy is  0.8771929824561403 for K-Value: 2\n",
      "Accuracy is  0.9035087719298246 for K-Value: 3\n",
      "Accuracy is  0.9122807017543859 for K-Value: 4\n",
      "Accuracy is  0.9385964912280702 for K-Value: 5\n",
      "Accuracy is  0.9385964912280702 for K-Value: 6\n",
      "Accuracy is  0.9473684210526315 for K-Value: 7\n",
      "Accuracy is  0.9385964912280702 for K-Value: 8\n",
      "Accuracy is  0.956140350877193 for K-Value: 9\n",
      "Accuracy is  0.9385964912280702 for K-Value: 10\n",
      "Accuracy is  0.9385964912280702 for K-Value: 11\n",
      "Accuracy is  0.9298245614035088 for K-Value: 12\n",
      "Accuracy is  0.9385964912280702 for K-Value: 13\n",
      "Accuracy is  0.9298245614035088 for K-Value: 14\n",
      "Accuracy is  0.9298245614035088 for K-Value: 15\n",
      "Accuracy is  0.9298245614035088 for K-Value: 16\n",
      "Accuracy is  0.9385964912280702 for K-Value: 17\n",
      "Accuracy is  0.9298245614035088 for K-Value: 18\n",
      "Accuracy is  0.9385964912280702 for K-Value: 19\n",
      "Accuracy is  0.9210526315789473 for K-Value: 20\n",
      "Accuracy is  0.9385964912280702 for K-Value: 21\n",
      "Accuracy is  0.9298245614035088 for K-Value: 22\n",
      "Accuracy is  0.9298245614035088 for K-Value: 23\n",
      "Accuracy is  0.9210526315789473 for K-Value: 24\n",
      "Accuracy is  0.9210526315789473 for K-Value: 25\n",
      "Accuracy is  0.9210526315789473 for K-Value: 26\n",
      "Accuracy is  0.9122807017543859 for K-Value: 27\n",
      "Accuracy is  0.9122807017543859 for K-Value: 28\n",
      "Accuracy is  0.9122807017543859 for K-Value: 29\n",
      "Accuracy is  0.9210526315789473 for K-Value: 30\n",
      "Accuracy is  0.9210526315789473 for K-Value: 31\n",
      "Accuracy is  0.9210526315789473 for K-Value: 32\n",
      "Accuracy is  0.9210526315789473 for K-Value: 33\n",
      "Accuracy is  0.9122807017543859 for K-Value: 34\n",
      "Accuracy is  0.9035087719298246 for K-Value: 35\n",
      "Accuracy is  0.9122807017543859 for K-Value: 36\n",
      "Accuracy is  0.9122807017543859 for K-Value: 37\n",
      "Accuracy is  0.9122807017543859 for K-Value: 38\n",
      "Accuracy is  0.9210526315789473 for K-Value: 39\n"
     ]
    }
   ],
   "source": [
    "from sklearn.metrics import accuracy_score\n",
    "\n",
    "for K in range(1,40):         #traversing k value 1-31..26,28 giving same accuracy but take 26 as it is nearest value\n",
    "    model_KNN = KNeighborsClassifier(K,metric=\"euclidean\")\n",
    "    model_KNN.fit(X_train, Y_train)\n",
    "    Y_pred = model_KNN.predict(X_test)\n",
    "    print (\"Accuracy is \", accuracy_score(Y_test,Y_pred), \"for K-Value:\",K)"
   ]
  },
  {
   "cell_type": "code",
   "execution_count": 44,
   "metadata": {},
   "outputs": [
    {
     "name": "stdout",
     "output_type": "stream",
     "text": [
      "[(1.0, 1.0), (0.0, 0.0), (0.0, 0.0), (1.0, 1.0), (0.0, 0.0), (0.0, 0.0), (0.0, 0.0), (0.0, 0.0), (1.0, 1.0), (1.0, 1.0), (0.0, 0.0), (0.0, 0.0), (1.0, 1.0), (0.0, 0.0), (1.0, 1.0), (1.0, 1.0), (0.0, 0.0), (0.0, 0.0), (0.0, 0.0), (0.0, 0.0), (1.0, 1.0), (1.0, 0.0), (0.0, 0.0), (0.0, 0.0), (1.0, 1.0), (1.0, 1.0), (0.0, 0.0), (1.0, 1.0), (0.0, 0.0), (0.0, 0.0), (0.0, 0.0), (0.0, 0.0), (1.0, 1.0), (0.0, 0.0), (0.0, 0.0), (0.0, 0.0), (0.0, 0.0), (0.0, 0.0), (0.0, 0.0), (0.0, 0.0), (0.0, 0.0), (0.0, 0.0), (0.0, 0.0), (1.0, 1.0), (0.0, 0.0), (1.0, 1.0), (1.0, 1.0), (1.0, 1.0), (1.0, 0.0), (0.0, 0.0), (0.0, 0.0), (0.0, 0.0), (1.0, 1.0), (0.0, 0.0), (0.0, 0.0), (1.0, 1.0), (1.0, 1.0), (0.0, 0.0), (0.0, 0.0), (0.0, 0.0), (1.0, 1.0), (0.0, 0.0), (1.0, 0.0), (1.0, 0.0), (0.0, 0.0), (0.0, 0.0), (0.0, 0.0), (0.0, 0.0), (1.0, 0.0), (1.0, 1.0), (0.0, 0.0), (0.0, 0.0), (0.0, 0.0), (0.0, 0.0), (0.0, 0.0), (1.0, 1.0), (0.0, 0.0), (0.0, 0.0), (1.0, 1.0), (1.0, 1.0), (0.0, 0.0), (0.0, 0.0), (1.0, 1.0), (0.0, 0.0), (0.0, 0.0), (0.0, 0.0), (0.0, 0.0), (0.0, 0.0), (0.0, 0.0), (0.0, 0.0), (0.0, 0.0), (0.0, 0.0), (1.0, 1.0), (0.0, 0.0), (0.0, 0.0), (0.0, 0.0), (1.0, 1.0), (0.0, 0.0), (1.0, 1.0), (0.0, 0.0), (1.0, 1.0), (1.0, 1.0), (0.0, 0.0), (0.0, 0.0), (0.0, 0.0), (0.0, 0.0), (1.0, 1.0), (1.0, 1.0), (0.0, 0.0), (0.0, 0.0), (0.0, 0.0), (0.0, 0.0), (1.0, 1.0), (1.0, 1.0)]\n"
     ]
    }
   ],
   "source": [
    "#giving k value = 9\n",
    "\n",
    "#predicting using the KNeighbours classifier\n",
    "\n",
    "import numpy as np\n",
    "from sklearn.neighbors import KNeighborsClassifier\n",
    "model_KNN=KNeighborsClassifier(n_neighbors=9,metric='euclidean')  #here we take the sqrt of no.of observ in X,round it and take integer value\n",
    "\n",
    "\n",
    "model_KNN.fit(X_train,Y_train)\n",
    "\n",
    "Y_pred=model_KNN.predict(X_test)\n",
    "print(list(zip(Y_test,Y_pred)))"
   ]
  },
  {
   "cell_type": "code",
   "execution_count": 45,
   "metadata": {},
   "outputs": [
    {
     "name": "stdout",
     "output_type": "stream",
     "text": [
      "[[75  0]\n",
      " [ 5 34]]\n",
      "\n",
      "Classification report :\n",
      "              precision    recall  f1-score   support\n",
      "\n",
      "         0.0       0.94      1.00      0.97        75\n",
      "         1.0       1.00      0.87      0.93        39\n",
      "\n",
      "    accuracy                           0.96       114\n",
      "   macro avg       0.97      0.94      0.95       114\n",
      "weighted avg       0.96      0.96      0.96       114\n",
      "\n",
      "\n",
      "Accuracy of the model: 0.956140350877193\n"
     ]
    }
   ],
   "source": [
    "#Evaluation of model\n",
    "\n",
    "from sklearn.metrics import confusion_matrix, accuracy_score, classification_report\n",
    "\n",
    "cfm=confusion_matrix(Y_test,Y_pred)\n",
    "print(cfm)\n",
    "print()\n",
    "\n",
    "print(\"Classification report :\")\n",
    "\n",
    "print(classification_report(Y_test,Y_pred))\n",
    "print()\n",
    "\n",
    "acc=accuracy_score(Y_test,Y_pred)\n",
    "print(\"Accuracy of the model:\",acc)"
   ]
  },
  {
   "cell_type": "code",
   "execution_count": 46,
   "metadata": {},
   "outputs": [
    {
     "data": {
      "text/plain": [
       "0    357\n",
       "1    212\n",
       "Name: diagnosis, dtype: int64"
      ]
     },
     "execution_count": 46,
     "metadata": {},
     "output_type": "execute_result"
    }
   ],
   "source": [
    "df.diagnosis.value_counts()"
   ]
  },
  {
   "cell_type": "code",
   "execution_count": 47,
   "metadata": {},
   "outputs": [
    {
     "data": {
      "text/html": [
       "<div>\n",
       "<style scoped>\n",
       "    .dataframe tbody tr th:only-of-type {\n",
       "        vertical-align: middle;\n",
       "    }\n",
       "\n",
       "    .dataframe tbody tr th {\n",
       "        vertical-align: top;\n",
       "    }\n",
       "\n",
       "    .dataframe thead th {\n",
       "        text-align: right;\n",
       "    }\n",
       "</style>\n",
       "<table border=\"1\" class=\"dataframe\">\n",
       "  <thead>\n",
       "    <tr style=\"text-align: right;\">\n",
       "      <th></th>\n",
       "      <th>diagnosis</th>\n",
       "      <th>radius_mean</th>\n",
       "      <th>texture_mean</th>\n",
       "      <th>perimeter_mean</th>\n",
       "      <th>area_mean</th>\n",
       "      <th>smoothness_mean</th>\n",
       "      <th>compactness_mean</th>\n",
       "      <th>concavity_mean</th>\n",
       "      <th>concave points_mean</th>\n",
       "      <th>symmetry_mean</th>\n",
       "      <th>fractal_dimension_mean</th>\n",
       "      <th>radius_se</th>\n",
       "      <th>texture_se</th>\n",
       "      <th>perimeter_se</th>\n",
       "      <th>area_se</th>\n",
       "      <th>smoothness_se</th>\n",
       "      <th>compactness_se</th>\n",
       "      <th>concavity_se</th>\n",
       "      <th>concave points_se</th>\n",
       "      <th>symmetry_se</th>\n",
       "      <th>fractal_dimension_se</th>\n",
       "      <th>radius_worst</th>\n",
       "      <th>texture_worst</th>\n",
       "      <th>perimeter_worst</th>\n",
       "      <th>area_worst</th>\n",
       "      <th>smoothness_worst</th>\n",
       "      <th>compactness_wors</th>\n",
       "      <th>concavity_worst</th>\n",
       "      <th>concave points_worst</th>\n",
       "      <th>symmetry_worst</th>\n",
       "      <th>fractal_dimension_worst</th>\n",
       "    </tr>\n",
       "    <tr>\n",
       "      <th>id</th>\n",
       "      <th></th>\n",
       "      <th></th>\n",
       "      <th></th>\n",
       "      <th></th>\n",
       "      <th></th>\n",
       "      <th></th>\n",
       "      <th></th>\n",
       "      <th></th>\n",
       "      <th></th>\n",
       "      <th></th>\n",
       "      <th></th>\n",
       "      <th></th>\n",
       "      <th></th>\n",
       "      <th></th>\n",
       "      <th></th>\n",
       "      <th></th>\n",
       "      <th></th>\n",
       "      <th></th>\n",
       "      <th></th>\n",
       "      <th></th>\n",
       "      <th></th>\n",
       "      <th></th>\n",
       "      <th></th>\n",
       "      <th></th>\n",
       "      <th></th>\n",
       "      <th></th>\n",
       "      <th></th>\n",
       "      <th></th>\n",
       "      <th></th>\n",
       "      <th></th>\n",
       "      <th></th>\n",
       "    </tr>\n",
       "  </thead>\n",
       "  <tbody>\n",
       "    <tr>\n",
       "      <td>842302</td>\n",
       "      <td>M</td>\n",
       "      <td>14.204716</td>\n",
       "      <td>20.202641</td>\n",
       "      <td>122.80</td>\n",
       "      <td>1001.0</td>\n",
       "      <td>0.096113</td>\n",
       "      <td>0.089479</td>\n",
       "      <td>0.184766</td>\n",
       "      <td>0.096526</td>\n",
       "      <td>0.150053</td>\n",
       "      <td>0.059764</td>\n",
       "      <td>0.006422</td>\n",
       "      <td>1.615280</td>\n",
       "      <td>2.763911</td>\n",
       "      <td>153.40</td>\n",
       "      <td>0.007540</td>\n",
       "      <td>0.028043</td>\n",
       "      <td>0.05373</td>\n",
       "      <td>0.01587</td>\n",
       "      <td>0.027044</td>\n",
       "      <td>0.003133</td>\n",
       "      <td>25.380</td>\n",
       "      <td>17.33</td>\n",
       "      <td>184.60</td>\n",
       "      <td>2019.0</td>\n",
       "      <td>0.16220</td>\n",
       "      <td>0.134597</td>\n",
       "      <td>0.7119</td>\n",
       "      <td>0.120681</td>\n",
       "      <td>0.4601</td>\n",
       "      <td>0.101594</td>\n",
       "    </tr>\n",
       "    <tr>\n",
       "      <td>842517</td>\n",
       "      <td>M</td>\n",
       "      <td>18.483496</td>\n",
       "      <td>22.464181</td>\n",
       "      <td>132.90</td>\n",
       "      <td>1326.0</td>\n",
       "      <td>0.094443</td>\n",
       "      <td>0.063299</td>\n",
       "      <td>0.086927</td>\n",
       "      <td>0.021108</td>\n",
       "      <td>0.213798</td>\n",
       "      <td>0.074897</td>\n",
       "      <td>0.303622</td>\n",
       "      <td>1.171764</td>\n",
       "      <td>6.690985</td>\n",
       "      <td>74.08</td>\n",
       "      <td>0.003675</td>\n",
       "      <td>0.019118</td>\n",
       "      <td>0.01860</td>\n",
       "      <td>0.01340</td>\n",
       "      <td>0.021795</td>\n",
       "      <td>0.000128</td>\n",
       "      <td>24.990</td>\n",
       "      <td>23.41</td>\n",
       "      <td>158.80</td>\n",
       "      <td>1956.0</td>\n",
       "      <td>0.12380</td>\n",
       "      <td>0.529227</td>\n",
       "      <td>0.2416</td>\n",
       "      <td>0.035439</td>\n",
       "      <td>0.2750</td>\n",
       "      <td>0.079397</td>\n",
       "    </tr>\n",
       "    <tr>\n",
       "      <td>84300903</td>\n",
       "      <td>M</td>\n",
       "      <td>15.516300</td>\n",
       "      <td>18.271486</td>\n",
       "      <td>130.00</td>\n",
       "      <td>1203.0</td>\n",
       "      <td>0.075842</td>\n",
       "      <td>0.059376</td>\n",
       "      <td>0.132738</td>\n",
       "      <td>0.052357</td>\n",
       "      <td>0.222581</td>\n",
       "      <td>0.056730</td>\n",
       "      <td>0.289027</td>\n",
       "      <td>-0.546491</td>\n",
       "      <td>5.660769</td>\n",
       "      <td>94.03</td>\n",
       "      <td>0.009390</td>\n",
       "      <td>0.035186</td>\n",
       "      <td>0.03832</td>\n",
       "      <td>0.02058</td>\n",
       "      <td>0.020481</td>\n",
       "      <td>0.004616</td>\n",
       "      <td>23.570</td>\n",
       "      <td>25.53</td>\n",
       "      <td>152.50</td>\n",
       "      <td>1709.0</td>\n",
       "      <td>0.14440</td>\n",
       "      <td>0.166906</td>\n",
       "      <td>0.4504</td>\n",
       "      <td>0.149670</td>\n",
       "      <td>0.3613</td>\n",
       "      <td>0.088802</td>\n",
       "    </tr>\n",
       "    <tr>\n",
       "      <td>84348301</td>\n",
       "      <td>M</td>\n",
       "      <td>15.540583</td>\n",
       "      <td>27.560108</td>\n",
       "      <td>77.58</td>\n",
       "      <td>386.1</td>\n",
       "      <td>0.091525</td>\n",
       "      <td>0.088022</td>\n",
       "      <td>0.194466</td>\n",
       "      <td>0.010895</td>\n",
       "      <td>0.179685</td>\n",
       "      <td>0.067824</td>\n",
       "      <td>0.765715</td>\n",
       "      <td>0.842057</td>\n",
       "      <td>-0.081625</td>\n",
       "      <td>27.23</td>\n",
       "      <td>0.006981</td>\n",
       "      <td>-0.028741</td>\n",
       "      <td>0.05661</td>\n",
       "      <td>0.01867</td>\n",
       "      <td>0.014801</td>\n",
       "      <td>0.003431</td>\n",
       "      <td>14.910</td>\n",
       "      <td>26.50</td>\n",
       "      <td>98.87</td>\n",
       "      <td>567.7</td>\n",
       "      <td>0.20980</td>\n",
       "      <td>0.224998</td>\n",
       "      <td>0.6869</td>\n",
       "      <td>0.110799</td>\n",
       "      <td>0.6638</td>\n",
       "      <td>0.086210</td>\n",
       "    </tr>\n",
       "    <tr>\n",
       "      <td>84358402</td>\n",
       "      <td>M</td>\n",
       "      <td>14.005198</td>\n",
       "      <td>11.678064</td>\n",
       "      <td>135.10</td>\n",
       "      <td>1297.0</td>\n",
       "      <td>0.092790</td>\n",
       "      <td>0.010642</td>\n",
       "      <td>0.030518</td>\n",
       "      <td>0.037828</td>\n",
       "      <td>0.147534</td>\n",
       "      <td>0.070231</td>\n",
       "      <td>0.732142</td>\n",
       "      <td>1.830999</td>\n",
       "      <td>2.432024</td>\n",
       "      <td>94.44</td>\n",
       "      <td>0.006293</td>\n",
       "      <td>0.020667</td>\n",
       "      <td>0.05688</td>\n",
       "      <td>0.01885</td>\n",
       "      <td>0.026821</td>\n",
       "      <td>0.005654</td>\n",
       "      <td>22.540</td>\n",
       "      <td>16.67</td>\n",
       "      <td>152.20</td>\n",
       "      <td>1575.0</td>\n",
       "      <td>0.13740</td>\n",
       "      <td>0.075833</td>\n",
       "      <td>0.4000</td>\n",
       "      <td>0.126386</td>\n",
       "      <td>0.2364</td>\n",
       "      <td>0.087483</td>\n",
       "    </tr>\n",
       "    <tr>\n",
       "      <td>...</td>\n",
       "      <td>...</td>\n",
       "      <td>...</td>\n",
       "      <td>...</td>\n",
       "      <td>...</td>\n",
       "      <td>...</td>\n",
       "      <td>...</td>\n",
       "      <td>...</td>\n",
       "      <td>...</td>\n",
       "      <td>...</td>\n",
       "      <td>...</td>\n",
       "      <td>...</td>\n",
       "      <td>...</td>\n",
       "      <td>...</td>\n",
       "      <td>...</td>\n",
       "      <td>...</td>\n",
       "      <td>...</td>\n",
       "      <td>...</td>\n",
       "      <td>...</td>\n",
       "      <td>...</td>\n",
       "      <td>...</td>\n",
       "      <td>...</td>\n",
       "      <td>...</td>\n",
       "      <td>...</td>\n",
       "      <td>...</td>\n",
       "      <td>...</td>\n",
       "      <td>...</td>\n",
       "      <td>...</td>\n",
       "      <td>...</td>\n",
       "      <td>...</td>\n",
       "      <td>...</td>\n",
       "      <td>...</td>\n",
       "    </tr>\n",
       "    <tr>\n",
       "      <td>926424</td>\n",
       "      <td>M</td>\n",
       "      <td>9.477218</td>\n",
       "      <td>17.173224</td>\n",
       "      <td>142.00</td>\n",
       "      <td>1479.0</td>\n",
       "      <td>0.110550</td>\n",
       "      <td>0.037279</td>\n",
       "      <td>0.160806</td>\n",
       "      <td>0.047462</td>\n",
       "      <td>0.157627</td>\n",
       "      <td>0.061794</td>\n",
       "      <td>0.505060</td>\n",
       "      <td>0.566071</td>\n",
       "      <td>1.972287</td>\n",
       "      <td>158.70</td>\n",
       "      <td>0.005673</td>\n",
       "      <td>0.009436</td>\n",
       "      <td>0.05198</td>\n",
       "      <td>0.02454</td>\n",
       "      <td>0.020836</td>\n",
       "      <td>0.005456</td>\n",
       "      <td>25.450</td>\n",
       "      <td>26.40</td>\n",
       "      <td>166.10</td>\n",
       "      <td>2027.0</td>\n",
       "      <td>0.14100</td>\n",
       "      <td>0.238996</td>\n",
       "      <td>0.4107</td>\n",
       "      <td>0.163526</td>\n",
       "      <td>0.2060</td>\n",
       "      <td>0.073780</td>\n",
       "    </tr>\n",
       "    <tr>\n",
       "      <td>926682</td>\n",
       "      <td>M</td>\n",
       "      <td>11.657306</td>\n",
       "      <td>25.502865</td>\n",
       "      <td>131.20</td>\n",
       "      <td>1261.0</td>\n",
       "      <td>0.113881</td>\n",
       "      <td>0.108912</td>\n",
       "      <td>0.134949</td>\n",
       "      <td>0.039279</td>\n",
       "      <td>0.208220</td>\n",
       "      <td>0.073724</td>\n",
       "      <td>0.522778</td>\n",
       "      <td>1.110313</td>\n",
       "      <td>4.025630</td>\n",
       "      <td>99.04</td>\n",
       "      <td>0.009236</td>\n",
       "      <td>0.027082</td>\n",
       "      <td>0.03950</td>\n",
       "      <td>0.01678</td>\n",
       "      <td>0.012430</td>\n",
       "      <td>-0.000019</td>\n",
       "      <td>23.690</td>\n",
       "      <td>38.25</td>\n",
       "      <td>155.00</td>\n",
       "      <td>1731.0</td>\n",
       "      <td>0.11660</td>\n",
       "      <td>0.219149</td>\n",
       "      <td>0.3215</td>\n",
       "      <td>0.032357</td>\n",
       "      <td>0.2572</td>\n",
       "      <td>0.068449</td>\n",
       "    </tr>\n",
       "    <tr>\n",
       "      <td>926954</td>\n",
       "      <td>M</td>\n",
       "      <td>20.102883</td>\n",
       "      <td>14.544119</td>\n",
       "      <td>108.30</td>\n",
       "      <td>858.1</td>\n",
       "      <td>0.100213</td>\n",
       "      <td>0.003465</td>\n",
       "      <td>0.072762</td>\n",
       "      <td>0.042914</td>\n",
       "      <td>0.211039</td>\n",
       "      <td>0.061090</td>\n",
       "      <td>0.628936</td>\n",
       "      <td>1.107104</td>\n",
       "      <td>1.943147</td>\n",
       "      <td>48.55</td>\n",
       "      <td>0.008076</td>\n",
       "      <td>-0.002990</td>\n",
       "      <td>0.04730</td>\n",
       "      <td>0.01557</td>\n",
       "      <td>0.014103</td>\n",
       "      <td>0.007739</td>\n",
       "      <td>18.980</td>\n",
       "      <td>34.12</td>\n",
       "      <td>126.70</td>\n",
       "      <td>1124.0</td>\n",
       "      <td>0.11390</td>\n",
       "      <td>0.279461</td>\n",
       "      <td>0.3403</td>\n",
       "      <td>0.113976</td>\n",
       "      <td>0.2218</td>\n",
       "      <td>0.098450</td>\n",
       "    </tr>\n",
       "    <tr>\n",
       "      <td>927241</td>\n",
       "      <td>M</td>\n",
       "      <td>16.206551</td>\n",
       "      <td>19.616466</td>\n",
       "      <td>140.10</td>\n",
       "      <td>1265.0</td>\n",
       "      <td>0.112486</td>\n",
       "      <td>0.158756</td>\n",
       "      <td>0.096860</td>\n",
       "      <td>0.024182</td>\n",
       "      <td>0.151310</td>\n",
       "      <td>0.066581</td>\n",
       "      <td>0.338542</td>\n",
       "      <td>0.822432</td>\n",
       "      <td>2.288387</td>\n",
       "      <td>86.22</td>\n",
       "      <td>0.007873</td>\n",
       "      <td>0.029954</td>\n",
       "      <td>0.07117</td>\n",
       "      <td>0.01664</td>\n",
       "      <td>0.009220</td>\n",
       "      <td>0.006787</td>\n",
       "      <td>25.740</td>\n",
       "      <td>39.42</td>\n",
       "      <td>184.60</td>\n",
       "      <td>1821.0</td>\n",
       "      <td>0.16500</td>\n",
       "      <td>0.116461</td>\n",
       "      <td>0.9387</td>\n",
       "      <td>0.067784</td>\n",
       "      <td>0.4087</td>\n",
       "      <td>0.074609</td>\n",
       "    </tr>\n",
       "    <tr>\n",
       "      <td>92751</td>\n",
       "      <td>B</td>\n",
       "      <td>13.256191</td>\n",
       "      <td>25.087474</td>\n",
       "      <td>47.92</td>\n",
       "      <td>181.0</td>\n",
       "      <td>0.110289</td>\n",
       "      <td>0.044248</td>\n",
       "      <td>-0.072171</td>\n",
       "      <td>0.029954</td>\n",
       "      <td>0.156980</td>\n",
       "      <td>0.060564</td>\n",
       "      <td>0.615921</td>\n",
       "      <td>0.917139</td>\n",
       "      <td>1.970200</td>\n",
       "      <td>19.15</td>\n",
       "      <td>0.008049</td>\n",
       "      <td>0.039570</td>\n",
       "      <td>0.00000</td>\n",
       "      <td>0.00000</td>\n",
       "      <td>0.006132</td>\n",
       "      <td>0.008352</td>\n",
       "      <td>9.456</td>\n",
       "      <td>30.37</td>\n",
       "      <td>59.16</td>\n",
       "      <td>268.6</td>\n",
       "      <td>0.08996</td>\n",
       "      <td>0.389369</td>\n",
       "      <td>0.0000</td>\n",
       "      <td>0.192663</td>\n",
       "      <td>0.2871</td>\n",
       "      <td>0.062577</td>\n",
       "    </tr>\n",
       "  </tbody>\n",
       "</table>\n",
       "<p>569 rows × 31 columns</p>\n",
       "</div>"
      ],
      "text/plain": [
       "         diagnosis  radius_mean  texture_mean  perimeter_mean  area_mean  \\\n",
       "id                                                                         \n",
       "842302           M    14.204716     20.202641          122.80     1001.0   \n",
       "842517           M    18.483496     22.464181          132.90     1326.0   \n",
       "84300903         M    15.516300     18.271486          130.00     1203.0   \n",
       "84348301         M    15.540583     27.560108           77.58      386.1   \n",
       "84358402         M    14.005198     11.678064          135.10     1297.0   \n",
       "...            ...          ...           ...             ...        ...   \n",
       "926424           M     9.477218     17.173224          142.00     1479.0   \n",
       "926682           M    11.657306     25.502865          131.20     1261.0   \n",
       "926954           M    20.102883     14.544119          108.30      858.1   \n",
       "927241           M    16.206551     19.616466          140.10     1265.0   \n",
       "92751            B    13.256191     25.087474           47.92      181.0   \n",
       "\n",
       "          smoothness_mean  compactness_mean  concavity_mean  \\\n",
       "id                                                            \n",
       "842302           0.096113          0.089479        0.184766   \n",
       "842517           0.094443          0.063299        0.086927   \n",
       "84300903         0.075842          0.059376        0.132738   \n",
       "84348301         0.091525          0.088022        0.194466   \n",
       "84358402         0.092790          0.010642        0.030518   \n",
       "...                   ...               ...             ...   \n",
       "926424           0.110550          0.037279        0.160806   \n",
       "926682           0.113881          0.108912        0.134949   \n",
       "926954           0.100213          0.003465        0.072762   \n",
       "927241           0.112486          0.158756        0.096860   \n",
       "92751            0.110289          0.044248       -0.072171   \n",
       "\n",
       "          concave points_mean  symmetry_mean  fractal_dimension_mean  \\\n",
       "id                                                                     \n",
       "842302               0.096526       0.150053                0.059764   \n",
       "842517               0.021108       0.213798                0.074897   \n",
       "84300903             0.052357       0.222581                0.056730   \n",
       "84348301             0.010895       0.179685                0.067824   \n",
       "84358402             0.037828       0.147534                0.070231   \n",
       "...                       ...            ...                     ...   \n",
       "926424               0.047462       0.157627                0.061794   \n",
       "926682               0.039279       0.208220                0.073724   \n",
       "926954               0.042914       0.211039                0.061090   \n",
       "927241               0.024182       0.151310                0.066581   \n",
       "92751                0.029954       0.156980                0.060564   \n",
       "\n",
       "          radius_se  texture_se  perimeter_se  area_se  smoothness_se  \\\n",
       "id                                                                      \n",
       "842302     0.006422    1.615280      2.763911   153.40       0.007540   \n",
       "842517     0.303622    1.171764      6.690985    74.08       0.003675   \n",
       "84300903   0.289027   -0.546491      5.660769    94.03       0.009390   \n",
       "84348301   0.765715    0.842057     -0.081625    27.23       0.006981   \n",
       "84358402   0.732142    1.830999      2.432024    94.44       0.006293   \n",
       "...             ...         ...           ...      ...            ...   \n",
       "926424     0.505060    0.566071      1.972287   158.70       0.005673   \n",
       "926682     0.522778    1.110313      4.025630    99.04       0.009236   \n",
       "926954     0.628936    1.107104      1.943147    48.55       0.008076   \n",
       "927241     0.338542    0.822432      2.288387    86.22       0.007873   \n",
       "92751      0.615921    0.917139      1.970200    19.15       0.008049   \n",
       "\n",
       "          compactness_se  concavity_se  concave points_se  symmetry_se  \\\n",
       "id                                                                       \n",
       "842302          0.028043       0.05373            0.01587     0.027044   \n",
       "842517          0.019118       0.01860            0.01340     0.021795   \n",
       "84300903        0.035186       0.03832            0.02058     0.020481   \n",
       "84348301       -0.028741       0.05661            0.01867     0.014801   \n",
       "84358402        0.020667       0.05688            0.01885     0.026821   \n",
       "...                  ...           ...                ...          ...   \n",
       "926424          0.009436       0.05198            0.02454     0.020836   \n",
       "926682          0.027082       0.03950            0.01678     0.012430   \n",
       "926954         -0.002990       0.04730            0.01557     0.014103   \n",
       "927241          0.029954       0.07117            0.01664     0.009220   \n",
       "92751           0.039570       0.00000            0.00000     0.006132   \n",
       "\n",
       "          fractal_dimension_se  radius_worst  texture_worst  perimeter_worst  \\\n",
       "id                                                                             \n",
       "842302                0.003133        25.380          17.33           184.60   \n",
       "842517                0.000128        24.990          23.41           158.80   \n",
       "84300903              0.004616        23.570          25.53           152.50   \n",
       "84348301              0.003431        14.910          26.50            98.87   \n",
       "84358402              0.005654        22.540          16.67           152.20   \n",
       "...                        ...           ...            ...              ...   \n",
       "926424                0.005456        25.450          26.40           166.10   \n",
       "926682               -0.000019        23.690          38.25           155.00   \n",
       "926954                0.007739        18.980          34.12           126.70   \n",
       "927241                0.006787        25.740          39.42           184.60   \n",
       "92751                 0.008352         9.456          30.37            59.16   \n",
       "\n",
       "          area_worst  smoothness_worst  compactness_wors  concavity_worst  \\\n",
       "id                                                                          \n",
       "842302        2019.0           0.16220          0.134597           0.7119   \n",
       "842517        1956.0           0.12380          0.529227           0.2416   \n",
       "84300903      1709.0           0.14440          0.166906           0.4504   \n",
       "84348301       567.7           0.20980          0.224998           0.6869   \n",
       "84358402      1575.0           0.13740          0.075833           0.4000   \n",
       "...              ...               ...               ...              ...   \n",
       "926424        2027.0           0.14100          0.238996           0.4107   \n",
       "926682        1731.0           0.11660          0.219149           0.3215   \n",
       "926954        1124.0           0.11390          0.279461           0.3403   \n",
       "927241        1821.0           0.16500          0.116461           0.9387   \n",
       "92751          268.6           0.08996          0.389369           0.0000   \n",
       "\n",
       "          concave points_worst  symmetry_worst  fractal_dimension_worst  \n",
       "id                                                                       \n",
       "842302                0.120681          0.4601                 0.101594  \n",
       "842517                0.035439          0.2750                 0.079397  \n",
       "84300903              0.149670          0.3613                 0.088802  \n",
       "84348301              0.110799          0.6638                 0.086210  \n",
       "84358402              0.126386          0.2364                 0.087483  \n",
       "...                        ...             ...                      ...  \n",
       "926424                0.163526          0.2060                 0.073780  \n",
       "926682                0.032357          0.2572                 0.068449  \n",
       "926954                0.113976          0.2218                 0.098450  \n",
       "927241                0.067784          0.4087                 0.074609  \n",
       "92751                 0.192663          0.2871                 0.062577  \n",
       "\n",
       "[569 rows x 31 columns]"
      ]
     },
     "execution_count": 47,
     "metadata": {},
     "output_type": "execute_result"
    }
   ],
   "source": [
    "#labelling\n",
    "#Coverting numerical variable into categorical one\n",
    "\n",
    "df[\"diagnosis\"]=df.diagnosis.map({0:\"B\",1:\"M\"})\n",
    "df"
   ]
  },
  {
   "cell_type": "code",
   "execution_count": 48,
   "metadata": {},
   "outputs": [
    {
     "ename": "ValueError",
     "evalue": "Length of values does not match length of index",
     "output_type": "error",
     "traceback": [
      "\u001b[1;31m---------------------------------------------------------------------------\u001b[0m",
      "\u001b[1;31mValueError\u001b[0m                                Traceback (most recent call last)",
      "\u001b[1;32m<ipython-input-48-9500a01a7957>\u001b[0m in \u001b[0;36m<module>\u001b[1;34m\u001b[0m\n\u001b[1;32m----> 1\u001b[1;33m \u001b[0mdf\u001b[0m\u001b[1;33m[\u001b[0m\u001b[1;34m\"Y_predictions\"\u001b[0m\u001b[1;33m]\u001b[0m \u001b[1;33m=\u001b[0m \u001b[0mY_pred\u001b[0m\u001b[1;33m\u001b[0m\u001b[1;33m\u001b[0m\u001b[0m\n\u001b[0m",
      "\u001b[1;32m~\\Anaconda3\\lib\\site-packages\\pandas\\core\\frame.py\u001b[0m in \u001b[0;36m__setitem__\u001b[1;34m(self, key, value)\u001b[0m\n\u001b[0;32m   3470\u001b[0m         \u001b[1;32melse\u001b[0m\u001b[1;33m:\u001b[0m\u001b[1;33m\u001b[0m\u001b[1;33m\u001b[0m\u001b[0m\n\u001b[0;32m   3471\u001b[0m             \u001b[1;31m# set column\u001b[0m\u001b[1;33m\u001b[0m\u001b[1;33m\u001b[0m\u001b[1;33m\u001b[0m\u001b[0m\n\u001b[1;32m-> 3472\u001b[1;33m             \u001b[0mself\u001b[0m\u001b[1;33m.\u001b[0m\u001b[0m_set_item\u001b[0m\u001b[1;33m(\u001b[0m\u001b[0mkey\u001b[0m\u001b[1;33m,\u001b[0m \u001b[0mvalue\u001b[0m\u001b[1;33m)\u001b[0m\u001b[1;33m\u001b[0m\u001b[1;33m\u001b[0m\u001b[0m\n\u001b[0m\u001b[0;32m   3473\u001b[0m \u001b[1;33m\u001b[0m\u001b[0m\n\u001b[0;32m   3474\u001b[0m     \u001b[1;32mdef\u001b[0m \u001b[0m_setitem_slice\u001b[0m\u001b[1;33m(\u001b[0m\u001b[0mself\u001b[0m\u001b[1;33m,\u001b[0m \u001b[0mkey\u001b[0m\u001b[1;33m,\u001b[0m \u001b[0mvalue\u001b[0m\u001b[1;33m)\u001b[0m\u001b[1;33m:\u001b[0m\u001b[1;33m\u001b[0m\u001b[1;33m\u001b[0m\u001b[0m\n",
      "\u001b[1;32m~\\Anaconda3\\lib\\site-packages\\pandas\\core\\frame.py\u001b[0m in \u001b[0;36m_set_item\u001b[1;34m(self, key, value)\u001b[0m\n\u001b[0;32m   3547\u001b[0m \u001b[1;33m\u001b[0m\u001b[0m\n\u001b[0;32m   3548\u001b[0m         \u001b[0mself\u001b[0m\u001b[1;33m.\u001b[0m\u001b[0m_ensure_valid_index\u001b[0m\u001b[1;33m(\u001b[0m\u001b[0mvalue\u001b[0m\u001b[1;33m)\u001b[0m\u001b[1;33m\u001b[0m\u001b[1;33m\u001b[0m\u001b[0m\n\u001b[1;32m-> 3549\u001b[1;33m         \u001b[0mvalue\u001b[0m \u001b[1;33m=\u001b[0m \u001b[0mself\u001b[0m\u001b[1;33m.\u001b[0m\u001b[0m_sanitize_column\u001b[0m\u001b[1;33m(\u001b[0m\u001b[0mkey\u001b[0m\u001b[1;33m,\u001b[0m \u001b[0mvalue\u001b[0m\u001b[1;33m)\u001b[0m\u001b[1;33m\u001b[0m\u001b[1;33m\u001b[0m\u001b[0m\n\u001b[0m\u001b[0;32m   3550\u001b[0m         \u001b[0mNDFrame\u001b[0m\u001b[1;33m.\u001b[0m\u001b[0m_set_item\u001b[0m\u001b[1;33m(\u001b[0m\u001b[0mself\u001b[0m\u001b[1;33m,\u001b[0m \u001b[0mkey\u001b[0m\u001b[1;33m,\u001b[0m \u001b[0mvalue\u001b[0m\u001b[1;33m)\u001b[0m\u001b[1;33m\u001b[0m\u001b[1;33m\u001b[0m\u001b[0m\n\u001b[0;32m   3551\u001b[0m \u001b[1;33m\u001b[0m\u001b[0m\n",
      "\u001b[1;32m~\\Anaconda3\\lib\\site-packages\\pandas\\core\\frame.py\u001b[0m in \u001b[0;36m_sanitize_column\u001b[1;34m(self, key, value, broadcast)\u001b[0m\n\u001b[0;32m   3732\u001b[0m \u001b[1;33m\u001b[0m\u001b[0m\n\u001b[0;32m   3733\u001b[0m             \u001b[1;31m# turn me into an ndarray\u001b[0m\u001b[1;33m\u001b[0m\u001b[1;33m\u001b[0m\u001b[1;33m\u001b[0m\u001b[0m\n\u001b[1;32m-> 3734\u001b[1;33m             \u001b[0mvalue\u001b[0m \u001b[1;33m=\u001b[0m \u001b[0msanitize_index\u001b[0m\u001b[1;33m(\u001b[0m\u001b[0mvalue\u001b[0m\u001b[1;33m,\u001b[0m \u001b[0mself\u001b[0m\u001b[1;33m.\u001b[0m\u001b[0mindex\u001b[0m\u001b[1;33m,\u001b[0m \u001b[0mcopy\u001b[0m\u001b[1;33m=\u001b[0m\u001b[1;32mFalse\u001b[0m\u001b[1;33m)\u001b[0m\u001b[1;33m\u001b[0m\u001b[1;33m\u001b[0m\u001b[0m\n\u001b[0m\u001b[0;32m   3735\u001b[0m             \u001b[1;32mif\u001b[0m \u001b[1;32mnot\u001b[0m \u001b[0misinstance\u001b[0m\u001b[1;33m(\u001b[0m\u001b[0mvalue\u001b[0m\u001b[1;33m,\u001b[0m \u001b[1;33m(\u001b[0m\u001b[0mnp\u001b[0m\u001b[1;33m.\u001b[0m\u001b[0mndarray\u001b[0m\u001b[1;33m,\u001b[0m \u001b[0mIndex\u001b[0m\u001b[1;33m)\u001b[0m\u001b[1;33m)\u001b[0m\u001b[1;33m:\u001b[0m\u001b[1;33m\u001b[0m\u001b[1;33m\u001b[0m\u001b[0m\n\u001b[0;32m   3736\u001b[0m                 \u001b[1;32mif\u001b[0m \u001b[0misinstance\u001b[0m\u001b[1;33m(\u001b[0m\u001b[0mvalue\u001b[0m\u001b[1;33m,\u001b[0m \u001b[0mlist\u001b[0m\u001b[1;33m)\u001b[0m \u001b[1;32mand\u001b[0m \u001b[0mlen\u001b[0m\u001b[1;33m(\u001b[0m\u001b[0mvalue\u001b[0m\u001b[1;33m)\u001b[0m \u001b[1;33m>\u001b[0m \u001b[1;36m0\u001b[0m\u001b[1;33m:\u001b[0m\u001b[1;33m\u001b[0m\u001b[1;33m\u001b[0m\u001b[0m\n",
      "\u001b[1;32m~\\Anaconda3\\lib\\site-packages\\pandas\\core\\internals\\construction.py\u001b[0m in \u001b[0;36msanitize_index\u001b[1;34m(data, index, copy)\u001b[0m\n\u001b[0;32m    610\u001b[0m \u001b[1;33m\u001b[0m\u001b[0m\n\u001b[0;32m    611\u001b[0m     \u001b[1;32mif\u001b[0m \u001b[0mlen\u001b[0m\u001b[1;33m(\u001b[0m\u001b[0mdata\u001b[0m\u001b[1;33m)\u001b[0m \u001b[1;33m!=\u001b[0m \u001b[0mlen\u001b[0m\u001b[1;33m(\u001b[0m\u001b[0mindex\u001b[0m\u001b[1;33m)\u001b[0m\u001b[1;33m:\u001b[0m\u001b[1;33m\u001b[0m\u001b[1;33m\u001b[0m\u001b[0m\n\u001b[1;32m--> 612\u001b[1;33m         \u001b[1;32mraise\u001b[0m \u001b[0mValueError\u001b[0m\u001b[1;33m(\u001b[0m\u001b[1;34m\"Length of values does not match length of index\"\u001b[0m\u001b[1;33m)\u001b[0m\u001b[1;33m\u001b[0m\u001b[1;33m\u001b[0m\u001b[0m\n\u001b[0m\u001b[0;32m    613\u001b[0m \u001b[1;33m\u001b[0m\u001b[0m\n\u001b[0;32m    614\u001b[0m     \u001b[1;32mif\u001b[0m \u001b[0misinstance\u001b[0m\u001b[1;33m(\u001b[0m\u001b[0mdata\u001b[0m\u001b[1;33m,\u001b[0m \u001b[0mABCIndexClass\u001b[0m\u001b[1;33m)\u001b[0m \u001b[1;32mand\u001b[0m \u001b[1;32mnot\u001b[0m \u001b[0mcopy\u001b[0m\u001b[1;33m:\u001b[0m\u001b[1;33m\u001b[0m\u001b[1;33m\u001b[0m\u001b[0m\n",
      "\u001b[1;31mValueError\u001b[0m: Length of values does not match length of index"
     ]
    }
   ],
   "source": [
    "df[\"Y_predictions\"] = Y_pred"
   ]
  },
  {
   "cell_type": "code",
   "execution_count": null,
   "metadata": {},
   "outputs": [],
   "source": []
  },
  {
   "cell_type": "code",
   "execution_count": null,
   "metadata": {},
   "outputs": [],
   "source": []
  },
  {
   "cell_type": "code",
   "execution_count": 126,
   "metadata": {},
   "outputs": [],
   "source": [
    "# AUC"
   ]
  },
  {
   "cell_type": "code",
   "execution_count": 127,
   "metadata": {},
   "outputs": [
    {
     "name": "stdout",
     "output_type": "stream",
     "text": [
      "[[0.22222222 0.77777778]\n",
      " [1.         0.        ]\n",
      " [1.         0.        ]\n",
      " [0.         1.        ]\n",
      " [0.88888889 0.11111111]\n",
      " [0.66666667 0.33333333]\n",
      " [0.88888889 0.11111111]\n",
      " [0.77777778 0.22222222]\n",
      " [0.11111111 0.88888889]\n",
      " [0.44444444 0.55555556]\n",
      " [1.         0.        ]\n",
      " [1.         0.        ]\n",
      " [0.44444444 0.55555556]\n",
      " [0.88888889 0.11111111]\n",
      " [0.33333333 0.66666667]\n",
      " [0.22222222 0.77777778]\n",
      " [1.         0.        ]\n",
      " [0.66666667 0.33333333]\n",
      " [0.88888889 0.11111111]\n",
      " [0.77777778 0.22222222]\n",
      " [0.22222222 0.77777778]\n",
      " [0.77777778 0.22222222]\n",
      " [1.         0.        ]\n",
      " [0.88888889 0.11111111]\n",
      " [0.         1.        ]\n",
      " [0.         1.        ]\n",
      " [0.77777778 0.22222222]\n",
      " [0.         1.        ]\n",
      " [0.88888889 0.11111111]\n",
      " [0.77777778 0.22222222]\n",
      " [0.88888889 0.11111111]\n",
      " [1.         0.        ]\n",
      " [0.         1.        ]\n",
      " [1.         0.        ]\n",
      " [0.77777778 0.22222222]\n",
      " [1.         0.        ]\n",
      " [0.88888889 0.11111111]\n",
      " [1.         0.        ]\n",
      " [0.77777778 0.22222222]\n",
      " [0.88888889 0.11111111]\n",
      " [1.         0.        ]\n",
      " [1.         0.        ]\n",
      " [0.88888889 0.11111111]\n",
      " [0.22222222 0.77777778]\n",
      " [0.77777778 0.22222222]\n",
      " [0.         1.        ]\n",
      " [0.44444444 0.55555556]\n",
      " [0.44444444 0.55555556]\n",
      " [0.55555556 0.44444444]\n",
      " [0.77777778 0.22222222]\n",
      " [0.77777778 0.22222222]\n",
      " [0.88888889 0.11111111]\n",
      " [0.11111111 0.88888889]\n",
      " [1.         0.        ]\n",
      " [0.66666667 0.33333333]\n",
      " [0.         1.        ]\n",
      " [0.11111111 0.88888889]\n",
      " [0.88888889 0.11111111]\n",
      " [0.77777778 0.22222222]\n",
      " [1.         0.        ]\n",
      " [0.         1.        ]\n",
      " [0.88888889 0.11111111]\n",
      " [0.66666667 0.33333333]\n",
      " [0.55555556 0.44444444]\n",
      " [1.         0.        ]\n",
      " [0.66666667 0.33333333]\n",
      " [0.88888889 0.11111111]\n",
      " [1.         0.        ]\n",
      " [0.77777778 0.22222222]\n",
      " [0.         1.        ]\n",
      " [1.         0.        ]\n",
      " [1.         0.        ]\n",
      " [1.         0.        ]\n",
      " [0.88888889 0.11111111]\n",
      " [0.88888889 0.11111111]\n",
      " [0.11111111 0.88888889]\n",
      " [1.         0.        ]\n",
      " [1.         0.        ]\n",
      " [0.11111111 0.88888889]\n",
      " [0.22222222 0.77777778]\n",
      " [1.         0.        ]\n",
      " [1.         0.        ]\n",
      " [0.         1.        ]\n",
      " [1.         0.        ]\n",
      " [1.         0.        ]\n",
      " [0.77777778 0.22222222]\n",
      " [1.         0.        ]\n",
      " [1.         0.        ]\n",
      " [1.         0.        ]\n",
      " [0.77777778 0.22222222]\n",
      " [1.         0.        ]\n",
      " [1.         0.        ]\n",
      " [0.44444444 0.55555556]\n",
      " [0.88888889 0.11111111]\n",
      " [1.         0.        ]\n",
      " [1.         0.        ]\n",
      " [0.         1.        ]\n",
      " [1.         0.        ]\n",
      " [0.         1.        ]\n",
      " [0.66666667 0.33333333]\n",
      " [0.         1.        ]\n",
      " [0.22222222 0.77777778]\n",
      " [1.         0.        ]\n",
      " [1.         0.        ]\n",
      " [1.         0.        ]\n",
      " [1.         0.        ]\n",
      " [0.         1.        ]\n",
      " [0.         1.        ]\n",
      " [1.         0.        ]\n",
      " [1.         0.        ]\n",
      " [0.88888889 0.11111111]\n",
      " [0.88888889 0.11111111]\n",
      " [0.         1.        ]\n",
      " [0.11111111 0.88888889]]\n"
     ]
    }
   ],
   "source": [
    "#to show the probablities\n",
    "\n",
    "y_pred_prob = model_KNN.predict_proba(X_test)      #first observation belongs to class 0 as 0.96 is greater...can be reched by (0,0) here it belongs to class 0\n",
    "print(y_pred_prob)"
   ]
  },
  {
   "cell_type": "code",
   "execution_count": 128,
   "metadata": {},
   "outputs": [
    {
     "name": "stdout",
     "output_type": "stream",
     "text": [
      "[1, 0, 0, 1, 0, 0, 0, 0, 1, 1, 0, 0, 1, 0, 1, 1, 0, 0, 0, 0, 1, 0, 0, 0, 1, 1, 0, 1, 0, 0, 0, 0, 1, 0, 0, 0, 0, 0, 0, 0, 0, 0, 0, 1, 0, 1, 1, 1, 1, 0, 0, 0, 1, 0, 0, 1, 1, 0, 0, 0, 1, 0, 0, 1, 0, 0, 0, 0, 0, 1, 0, 0, 0, 0, 0, 1, 0, 0, 1, 1, 0, 0, 1, 0, 0, 0, 0, 0, 0, 0, 0, 0, 1, 0, 0, 0, 1, 0, 1, 0, 1, 1, 0, 0, 0, 0, 1, 1, 0, 0, 0, 0, 1, 1]\n"
     ]
    }
   ],
   "source": [
    "#threshold increased to 0.6\n",
    "\n",
    "y_pred_class=[]\n",
    "for value in y_pred_prob[:,1]:   #values of class 1 are considered from above y_pred_prob\n",
    "    if value > 0.4:\n",
    "        y_pred_class.append(1) #if greater than 0.6 belongs to class 1 or else class 0\n",
    "    else:\n",
    "        y_pred_class.append(0)\n",
    "print(y_pred_class)        "
   ]
  },
  {
   "cell_type": "code",
   "execution_count": 129,
   "metadata": {},
   "outputs": [
    {
     "name": "stdout",
     "output_type": "stream",
     "text": [
      "[[75  0]\n",
      " [ 3 36]]\n",
      "Classification report :\n",
      "              precision    recall  f1-score   support\n",
      "\n",
      "         0.0       0.96      1.00      0.98        75\n",
      "         1.0       1.00      0.92      0.96        39\n",
      "\n",
      "    accuracy                           0.97       114\n",
      "   macro avg       0.98      0.96      0.97       114\n",
      "weighted avg       0.97      0.97      0.97       114\n",
      "\n",
      "Accuracy of the model: 0.9736842105263158\n"
     ]
    }
   ],
   "source": [
    "\n",
    "from sklearn.metrics import confusion_matrix, accuracy_score, classification_report\n",
    "\n",
    "cfm=confusion_matrix(Y_test,y_pred_class)\n",
    "print(cfm)\n",
    "\n",
    "print(\"Classification report :\")\n",
    "\n",
    "print(classification_report(Y_test,y_pred_class))\n",
    "\n",
    "acc=accuracy_score(Y_test,y_pred_class)\n",
    "print(\"Accuracy of the model:\",acc)"
   ]
  },
  {
   "cell_type": "code",
   "execution_count": 130,
   "metadata": {},
   "outputs": [
    {
     "name": "stdout",
     "output_type": "stream",
     "text": [
      "Errors at threshold  0.4 : 3  , type 2 error : 3  , type 1 error: 0\n",
      "Errors at threshold  0.41000000000000003 : 3  , type 2 error : 3  , type 1 error: 0\n",
      "Errors at threshold  0.42000000000000004 : 3  , type 2 error : 3  , type 1 error: 0\n",
      "Errors at threshold  0.43000000000000005 : 3  , type 2 error : 3  , type 1 error: 0\n",
      "Errors at threshold  0.44000000000000006 : 3  , type 2 error : 3  , type 1 error: 0\n",
      "Errors at threshold  0.45000000000000007 : 5  , type 2 error : 5  , type 1 error: 0\n",
      "Errors at threshold  0.4600000000000001 : 5  , type 2 error : 5  , type 1 error: 0\n",
      "Errors at threshold  0.4700000000000001 : 5  , type 2 error : 5  , type 1 error: 0\n",
      "Errors at threshold  0.4800000000000001 : 5  , type 2 error : 5  , type 1 error: 0\n",
      "Errors at threshold  0.4900000000000001 : 5  , type 2 error : 5  , type 1 error: 0\n",
      "Errors at threshold  0.5000000000000001 : 5  , type 2 error : 5  , type 1 error: 0\n",
      "Errors at threshold  0.5100000000000001 : 5  , type 2 error : 5  , type 1 error: 0\n",
      "Errors at threshold  0.5200000000000001 : 5  , type 2 error : 5  , type 1 error: 0\n",
      "Errors at threshold  0.5300000000000001 : 5  , type 2 error : 5  , type 1 error: 0\n",
      "Errors at threshold  0.5400000000000001 : 5  , type 2 error : 5  , type 1 error: 0\n",
      "Errors at threshold  0.5500000000000002 : 5  , type 2 error : 5  , type 1 error: 0\n",
      "Errors at threshold  0.5600000000000002 : 10  , type 2 error : 10  , type 1 error: 0\n",
      "Errors at threshold  0.5700000000000002 : 10  , type 2 error : 10  , type 1 error: 0\n",
      "Errors at threshold  0.5800000000000002 : 10  , type 2 error : 10  , type 1 error: 0\n",
      "Errors at threshold  0.5900000000000002 : 10  , type 2 error : 10  , type 1 error: 0\n",
      "Errors at threshold  0.6000000000000002 : 10  , type 2 error : 10  , type 1 error: 0\n"
     ]
    }
   ],
   "source": [
    "for a in np.arange(0.4,0.61,0.01):  #0.01 is increment value\n",
    "    predict_mine = np.where(y_pred_prob[:,1] > a, 1, 0)\n",
    "    cfm=confusion_matrix(Y_test, predict_mine)\n",
    "    total_err=cfm[0,1]+cfm[1,0]\n",
    "    print(\"Errors at threshold \", a, \":\",total_err, \" , type 2 error :\",\n",
    "    cfm[1,0],\" , type 1 error:\", cfm[0,1])"
   ]
  },
  {
   "cell_type": "code",
   "execution_count": 131,
   "metadata": {},
   "outputs": [
    {
     "name": "stdout",
     "output_type": "stream",
     "text": [
      "0.9916239316239316\n"
     ]
    }
   ],
   "source": [
    "from sklearn import metrics\n",
    "\n",
    "fpr, tpr , z = metrics.roc_curve(Y_test,y_pred_prob[:,1])\n",
    "auc = metrics.auc(fpr,tpr)\n",
    "print(auc)"
   ]
  },
  {
   "cell_type": "code",
   "execution_count": 132,
   "metadata": {},
   "outputs": [
    {
     "data": {
      "text/html": [
       "<div>\n",
       "<style scoped>\n",
       "    .dataframe tbody tr th:only-of-type {\n",
       "        vertical-align: middle;\n",
       "    }\n",
       "\n",
       "    .dataframe tbody tr th {\n",
       "        vertical-align: top;\n",
       "    }\n",
       "\n",
       "    .dataframe thead th {\n",
       "        text-align: right;\n",
       "    }\n",
       "</style>\n",
       "<table border=\"1\" class=\"dataframe\">\n",
       "  <thead>\n",
       "    <tr style=\"text-align: right;\">\n",
       "      <th></th>\n",
       "      <th>radius_mean</th>\n",
       "      <th>texture_mean</th>\n",
       "      <th>perimeter_mean</th>\n",
       "      <th>area_mean</th>\n",
       "      <th>smoothness_mean</th>\n",
       "      <th>compactness_mean</th>\n",
       "      <th>concavity_mean</th>\n",
       "      <th>concave points_mean</th>\n",
       "      <th>symmetry_mean</th>\n",
       "      <th>fractal_dimension_mean</th>\n",
       "      <th>radius_se</th>\n",
       "      <th>texture_se</th>\n",
       "      <th>perimeter_se</th>\n",
       "      <th>area_se</th>\n",
       "      <th>smoothness_se</th>\n",
       "      <th>compactness_se</th>\n",
       "      <th>concavity_se</th>\n",
       "      <th>concave points_se</th>\n",
       "      <th>symmetry_se</th>\n",
       "      <th>fractal_dimension_se</th>\n",
       "      <th>radius_worst</th>\n",
       "      <th>texture_worst</th>\n",
       "      <th>perimeter_worst</th>\n",
       "      <th>area_worst</th>\n",
       "      <th>smoothness_worst</th>\n",
       "      <th>compactness_wors</th>\n",
       "      <th>concavity_worst</th>\n",
       "      <th>concave points_worst</th>\n",
       "      <th>symmetry_worst</th>\n",
       "      <th>fractal_dimension_worst</th>\n",
       "    </tr>\n",
       "  </thead>\n",
       "  <tbody>\n",
       "    <tr>\n",
       "      <td>count</td>\n",
       "      <td>569.000000</td>\n",
       "      <td>569.000000</td>\n",
       "      <td>569.000000</td>\n",
       "      <td>569.000000</td>\n",
       "      <td>569.000000</td>\n",
       "      <td>569.000000</td>\n",
       "      <td>569.000000</td>\n",
       "      <td>569.000000</td>\n",
       "      <td>569.000000</td>\n",
       "      <td>569.000000</td>\n",
       "      <td>569.000000</td>\n",
       "      <td>569.000000</td>\n",
       "      <td>569.000000</td>\n",
       "      <td>569.000000</td>\n",
       "      <td>569.000000</td>\n",
       "      <td>569.000000</td>\n",
       "      <td>569.000000</td>\n",
       "      <td>569.000000</td>\n",
       "      <td>569.000000</td>\n",
       "      <td>569.000000</td>\n",
       "      <td>569.000000</td>\n",
       "      <td>569.000000</td>\n",
       "      <td>569.000000</td>\n",
       "      <td>569.000000</td>\n",
       "      <td>569.000000</td>\n",
       "      <td>569.000000</td>\n",
       "      <td>569.000000</td>\n",
       "      <td>569.000000</td>\n",
       "      <td>569.000000</td>\n",
       "      <td>569.000000</td>\n",
       "    </tr>\n",
       "    <tr>\n",
       "      <td>mean</td>\n",
       "      <td>14.157073</td>\n",
       "      <td>19.025699</td>\n",
       "      <td>91.969033</td>\n",
       "      <td>654.889104</td>\n",
       "      <td>0.095887</td>\n",
       "      <td>0.106397</td>\n",
       "      <td>0.092388</td>\n",
       "      <td>0.048655</td>\n",
       "      <td>0.179979</td>\n",
       "      <td>0.063291</td>\n",
       "      <td>0.420306</td>\n",
       "      <td>1.206972</td>\n",
       "      <td>3.014281</td>\n",
       "      <td>40.337079</td>\n",
       "      <td>0.006921</td>\n",
       "      <td>0.025483</td>\n",
       "      <td>0.031894</td>\n",
       "      <td>0.011796</td>\n",
       "      <td>0.020458</td>\n",
       "      <td>0.003916</td>\n",
       "      <td>16.269190</td>\n",
       "      <td>25.677223</td>\n",
       "      <td>107.261213</td>\n",
       "      <td>880.583128</td>\n",
       "      <td>0.132369</td>\n",
       "      <td>0.243948</td>\n",
       "      <td>0.272188</td>\n",
       "      <td>0.122288</td>\n",
       "      <td>0.290076</td>\n",
       "      <td>0.082584</td>\n",
       "    </tr>\n",
       "    <tr>\n",
       "      <td>std</td>\n",
       "      <td>3.435295</td>\n",
       "      <td>4.515361</td>\n",
       "      <td>24.298981</td>\n",
       "      <td>351.914129</td>\n",
       "      <td>0.013778</td>\n",
       "      <td>0.051773</td>\n",
       "      <td>0.082573</td>\n",
       "      <td>0.042227</td>\n",
       "      <td>0.026742</td>\n",
       "      <td>0.006770</td>\n",
       "      <td>0.279339</td>\n",
       "      <td>0.534069</td>\n",
       "      <td>2.070656</td>\n",
       "      <td>45.491006</td>\n",
       "      <td>0.003069</td>\n",
       "      <td>0.017796</td>\n",
       "      <td>0.030186</td>\n",
       "      <td>0.006170</td>\n",
       "      <td>0.008280</td>\n",
       "      <td>0.002670</td>\n",
       "      <td>4.833242</td>\n",
       "      <td>6.146258</td>\n",
       "      <td>33.602542</td>\n",
       "      <td>569.356993</td>\n",
       "      <td>0.022832</td>\n",
       "      <td>0.156127</td>\n",
       "      <td>0.208624</td>\n",
       "      <td>0.064848</td>\n",
       "      <td>0.061867</td>\n",
       "      <td>0.018546</td>\n",
       "    </tr>\n",
       "    <tr>\n",
       "      <td>min</td>\n",
       "      <td>2.174108</td>\n",
       "      <td>5.225685</td>\n",
       "      <td>43.790000</td>\n",
       "      <td>143.500000</td>\n",
       "      <td>0.045915</td>\n",
       "      <td>-0.055431</td>\n",
       "      <td>-0.156186</td>\n",
       "      <td>-0.078615</td>\n",
       "      <td>0.103582</td>\n",
       "      <td>0.041265</td>\n",
       "      <td>-0.372471</td>\n",
       "      <td>-0.546491</td>\n",
       "      <td>-4.707076</td>\n",
       "      <td>6.802000</td>\n",
       "      <td>-0.001133</td>\n",
       "      <td>-0.028741</td>\n",
       "      <td>0.000000</td>\n",
       "      <td>0.000000</td>\n",
       "      <td>-0.005896</td>\n",
       "      <td>-0.003879</td>\n",
       "      <td>7.930000</td>\n",
       "      <td>12.020000</td>\n",
       "      <td>50.410000</td>\n",
       "      <td>185.200000</td>\n",
       "      <td>0.071170</td>\n",
       "      <td>-0.198310</td>\n",
       "      <td>0.000000</td>\n",
       "      <td>-0.133583</td>\n",
       "      <td>0.156500</td>\n",
       "      <td>0.031090</td>\n",
       "    </tr>\n",
       "    <tr>\n",
       "      <td>25%</td>\n",
       "      <td>11.762811</td>\n",
       "      <td>15.926529</td>\n",
       "      <td>75.170000</td>\n",
       "      <td>420.300000</td>\n",
       "      <td>0.085801</td>\n",
       "      <td>0.070217</td>\n",
       "      <td>0.037784</td>\n",
       "      <td>0.020214</td>\n",
       "      <td>0.162974</td>\n",
       "      <td>0.058996</td>\n",
       "      <td>0.227769</td>\n",
       "      <td>0.822432</td>\n",
       "      <td>1.642622</td>\n",
       "      <td>17.850000</td>\n",
       "      <td>0.004856</td>\n",
       "      <td>0.014254</td>\n",
       "      <td>0.015090</td>\n",
       "      <td>0.007638</td>\n",
       "      <td>0.014591</td>\n",
       "      <td>0.002096</td>\n",
       "      <td>13.010000</td>\n",
       "      <td>21.080000</td>\n",
       "      <td>84.110000</td>\n",
       "      <td>515.300000</td>\n",
       "      <td>0.116600</td>\n",
       "      <td>0.130946</td>\n",
       "      <td>0.114500</td>\n",
       "      <td>0.077446</td>\n",
       "      <td>0.250400</td>\n",
       "      <td>0.068561</td>\n",
       "    </tr>\n",
       "    <tr>\n",
       "      <td>50%</td>\n",
       "      <td>14.142920</td>\n",
       "      <td>19.135095</td>\n",
       "      <td>86.240000</td>\n",
       "      <td>551.100000</td>\n",
       "      <td>0.096244</td>\n",
       "      <td>0.105569</td>\n",
       "      <td>0.093832</td>\n",
       "      <td>0.048666</td>\n",
       "      <td>0.179796</td>\n",
       "      <td>0.062821</td>\n",
       "      <td>0.417595</td>\n",
       "      <td>1.219510</td>\n",
       "      <td>2.964648</td>\n",
       "      <td>24.530000</td>\n",
       "      <td>0.006996</td>\n",
       "      <td>0.025416</td>\n",
       "      <td>0.025890</td>\n",
       "      <td>0.010930</td>\n",
       "      <td>0.020653</td>\n",
       "      <td>0.003928</td>\n",
       "      <td>14.970000</td>\n",
       "      <td>25.410000</td>\n",
       "      <td>97.660000</td>\n",
       "      <td>686.500000</td>\n",
       "      <td>0.131300</td>\n",
       "      <td>0.237884</td>\n",
       "      <td>0.226700</td>\n",
       "      <td>0.120702</td>\n",
       "      <td>0.282200</td>\n",
       "      <td>0.082181</td>\n",
       "    </tr>\n",
       "    <tr>\n",
       "      <td>75%</td>\n",
       "      <td>16.403557</td>\n",
       "      <td>22.060029</td>\n",
       "      <td>104.100000</td>\n",
       "      <td>782.700000</td>\n",
       "      <td>0.105867</td>\n",
       "      <td>0.143065</td>\n",
       "      <td>0.148154</td>\n",
       "      <td>0.077010</td>\n",
       "      <td>0.198569</td>\n",
       "      <td>0.067782</td>\n",
       "      <td>0.625950</td>\n",
       "      <td>1.549142</td>\n",
       "      <td>4.341242</td>\n",
       "      <td>45.190000</td>\n",
       "      <td>0.009152</td>\n",
       "      <td>0.037804</td>\n",
       "      <td>0.042050</td>\n",
       "      <td>0.014710</td>\n",
       "      <td>0.026359</td>\n",
       "      <td>0.005818</td>\n",
       "      <td>18.790000</td>\n",
       "      <td>29.720000</td>\n",
       "      <td>125.400000</td>\n",
       "      <td>1084.000000</td>\n",
       "      <td>0.146000</td>\n",
       "      <td>0.345980</td>\n",
       "      <td>0.382900</td>\n",
       "      <td>0.162843</td>\n",
       "      <td>0.317900</td>\n",
       "      <td>0.094202</td>\n",
       "    </tr>\n",
       "    <tr>\n",
       "      <td>max</td>\n",
       "      <td>24.961616</td>\n",
       "      <td>31.692291</td>\n",
       "      <td>188.500000</td>\n",
       "      <td>2501.000000</td>\n",
       "      <td>0.144596</td>\n",
       "      <td>0.248430</td>\n",
       "      <td>0.335120</td>\n",
       "      <td>0.189527</td>\n",
       "      <td>0.261135</td>\n",
       "      <td>0.087951</td>\n",
       "      <td>1.461752</td>\n",
       "      <td>2.786341</td>\n",
       "      <td>8.611148</td>\n",
       "      <td>542.200000</td>\n",
       "      <td>0.015543</td>\n",
       "      <td>0.075790</td>\n",
       "      <td>0.396000</td>\n",
       "      <td>0.052790</td>\n",
       "      <td>0.042971</td>\n",
       "      <td>0.011591</td>\n",
       "      <td>36.040000</td>\n",
       "      <td>49.540000</td>\n",
       "      <td>251.200000</td>\n",
       "      <td>4254.000000</td>\n",
       "      <td>0.222600</td>\n",
       "      <td>0.693251</td>\n",
       "      <td>1.252000</td>\n",
       "      <td>0.313149</td>\n",
       "      <td>0.663800</td>\n",
       "      <td>0.140263</td>\n",
       "    </tr>\n",
       "  </tbody>\n",
       "</table>\n",
       "</div>"
      ],
      "text/plain": [
       "       radius_mean  texture_mean  perimeter_mean    area_mean  \\\n",
       "count   569.000000    569.000000      569.000000   569.000000   \n",
       "mean     14.157073     19.025699       91.969033   654.889104   \n",
       "std       3.435295      4.515361       24.298981   351.914129   \n",
       "min       2.174108      5.225685       43.790000   143.500000   \n",
       "25%      11.762811     15.926529       75.170000   420.300000   \n",
       "50%      14.142920     19.135095       86.240000   551.100000   \n",
       "75%      16.403557     22.060029      104.100000   782.700000   \n",
       "max      24.961616     31.692291      188.500000  2501.000000   \n",
       "\n",
       "       smoothness_mean  compactness_mean  concavity_mean  concave points_mean  \\\n",
       "count       569.000000        569.000000      569.000000           569.000000   \n",
       "mean          0.095887          0.106397        0.092388             0.048655   \n",
       "std           0.013778          0.051773        0.082573             0.042227   \n",
       "min           0.045915         -0.055431       -0.156186            -0.078615   \n",
       "25%           0.085801          0.070217        0.037784             0.020214   \n",
       "50%           0.096244          0.105569        0.093832             0.048666   \n",
       "75%           0.105867          0.143065        0.148154             0.077010   \n",
       "max           0.144596          0.248430        0.335120             0.189527   \n",
       "\n",
       "       symmetry_mean  fractal_dimension_mean   radius_se  texture_se  \\\n",
       "count     569.000000              569.000000  569.000000  569.000000   \n",
       "mean        0.179979                0.063291    0.420306    1.206972   \n",
       "std         0.026742                0.006770    0.279339    0.534069   \n",
       "min         0.103582                0.041265   -0.372471   -0.546491   \n",
       "25%         0.162974                0.058996    0.227769    0.822432   \n",
       "50%         0.179796                0.062821    0.417595    1.219510   \n",
       "75%         0.198569                0.067782    0.625950    1.549142   \n",
       "max         0.261135                0.087951    1.461752    2.786341   \n",
       "\n",
       "       perimeter_se     area_se  smoothness_se  compactness_se  concavity_se  \\\n",
       "count    569.000000  569.000000     569.000000      569.000000    569.000000   \n",
       "mean       3.014281   40.337079       0.006921        0.025483      0.031894   \n",
       "std        2.070656   45.491006       0.003069        0.017796      0.030186   \n",
       "min       -4.707076    6.802000      -0.001133       -0.028741      0.000000   \n",
       "25%        1.642622   17.850000       0.004856        0.014254      0.015090   \n",
       "50%        2.964648   24.530000       0.006996        0.025416      0.025890   \n",
       "75%        4.341242   45.190000       0.009152        0.037804      0.042050   \n",
       "max        8.611148  542.200000       0.015543        0.075790      0.396000   \n",
       "\n",
       "       concave points_se  symmetry_se  fractal_dimension_se  radius_worst  \\\n",
       "count         569.000000   569.000000            569.000000    569.000000   \n",
       "mean            0.011796     0.020458              0.003916     16.269190   \n",
       "std             0.006170     0.008280              0.002670      4.833242   \n",
       "min             0.000000    -0.005896             -0.003879      7.930000   \n",
       "25%             0.007638     0.014591              0.002096     13.010000   \n",
       "50%             0.010930     0.020653              0.003928     14.970000   \n",
       "75%             0.014710     0.026359              0.005818     18.790000   \n",
       "max             0.052790     0.042971              0.011591     36.040000   \n",
       "\n",
       "       texture_worst  perimeter_worst   area_worst  smoothness_worst  \\\n",
       "count     569.000000       569.000000   569.000000        569.000000   \n",
       "mean       25.677223       107.261213   880.583128          0.132369   \n",
       "std         6.146258        33.602542   569.356993          0.022832   \n",
       "min        12.020000        50.410000   185.200000          0.071170   \n",
       "25%        21.080000        84.110000   515.300000          0.116600   \n",
       "50%        25.410000        97.660000   686.500000          0.131300   \n",
       "75%        29.720000       125.400000  1084.000000          0.146000   \n",
       "max        49.540000       251.200000  4254.000000          0.222600   \n",
       "\n",
       "       compactness_wors  concavity_worst  concave points_worst  \\\n",
       "count        569.000000       569.000000            569.000000   \n",
       "mean           0.243948         0.272188              0.122288   \n",
       "std            0.156127         0.208624              0.064848   \n",
       "min           -0.198310         0.000000             -0.133583   \n",
       "25%            0.130946         0.114500              0.077446   \n",
       "50%            0.237884         0.226700              0.120702   \n",
       "75%            0.345980         0.382900              0.162843   \n",
       "max            0.693251         1.252000              0.313149   \n",
       "\n",
       "       symmetry_worst  fractal_dimension_worst  \n",
       "count      569.000000               569.000000  \n",
       "mean         0.290076                 0.082584  \n",
       "std          0.061867                 0.018546  \n",
       "min          0.156500                 0.031090  \n",
       "25%          0.250400                 0.068561  \n",
       "50%          0.282200                 0.082181  \n",
       "75%          0.317900                 0.094202  \n",
       "max          0.663800                 0.140263  "
      ]
     },
     "execution_count": 132,
     "metadata": {},
     "output_type": "execute_result"
    }
   ],
   "source": [
    "df.describe()"
   ]
  },
  {
   "cell_type": "code",
   "execution_count": null,
   "metadata": {},
   "outputs": [],
   "source": []
  },
  {
   "cell_type": "code",
   "execution_count": null,
   "metadata": {},
   "outputs": [],
   "source": []
  },
  {
   "cell_type": "code",
   "execution_count": 133,
   "metadata": {},
   "outputs": [],
   "source": [
    "################################## LOGISTIC REGRESSION ##################################"
   ]
  },
  {
   "cell_type": "code",
   "execution_count": 134,
   "metadata": {},
   "outputs": [
    {
     "name": "stdout",
     "output_type": "stream",
     "text": [
      "[[ 0.38416423 -0.02956207  0.82155781  0.9189714   0.16406659  0.14271303\n",
      "  -0.08847706  0.36525301  0.045327   -0.28246235  0.21534562 -0.01004559\n",
      "   0.01471347  1.8273578   0.34371253  0.6159163  -1.01855115  0.8219745\n",
      "   0.06398259  0.0040607   1.37620255  1.69771892  1.10010987  1.26975113\n",
      "   1.11457705 -0.04857628  1.21867932  0.19929404  0.54051665  0.55248095]]\n",
      "[-0.47235577]\n"
     ]
    }
   ],
   "source": [
    "from sklearn.linear_model import LogisticRegression\n",
    "\n",
    "#create a model\n",
    "classifier = LogisticRegression()\n",
    "\n",
    "#fitting training data into model\n",
    "classifier.fit(X_train,Y_train)\n",
    "\n",
    "Y_pred=classifier.predict(X_test)\n",
    "#print(list(zip(Y_test,Y_pred)))   #prints actual and predicted values\n",
    "\n",
    "print(classifier.coef_)\n",
    "print(classifier.intercept_)"
   ]
  },
  {
   "cell_type": "code",
   "execution_count": 135,
   "metadata": {},
   "outputs": [
    {
     "name": "stdout",
     "output_type": "stream",
     "text": [
      "[[73  2]\n",
      " [ 1 38]]\n",
      "Classification report :\n",
      "              precision    recall  f1-score   support\n",
      "\n",
      "         0.0       0.99      0.97      0.98        75\n",
      "         1.0       0.95      0.97      0.96        39\n",
      "\n",
      "    accuracy                           0.97       114\n",
      "   macro avg       0.97      0.97      0.97       114\n",
      "weighted avg       0.97      0.97      0.97       114\n",
      "\n",
      "Accuracy of the model: 0.9736842105263158\n"
     ]
    }
   ],
   "source": [
    "from sklearn.metrics import confusion_matrix, accuracy_score, classification_report\n",
    "\n",
    "cfm=confusion_matrix(Y_test,Y_pred)\n",
    "print(cfm)\n",
    "\n",
    "print(\"Classification report :\")\n",
    "\n",
    "print(classification_report(Y_test,Y_pred))\n",
    "\n",
    "acc=accuracy_score(Y_test,Y_pred)\n",
    "print(\"Accuracy of the model:\",acc)"
   ]
  },
  {
   "cell_type": "code",
   "execution_count": null,
   "metadata": {},
   "outputs": [],
   "source": [
    " "
   ]
  },
  {
   "cell_type": "code",
   "execution_count": null,
   "metadata": {},
   "outputs": [],
   "source": []
  },
  {
   "cell_type": "code",
   "execution_count": 136,
   "metadata": {},
   "outputs": [],
   "source": [
    "########################## DECISION TREE ####################################"
   ]
  },
  {
   "cell_type": "code",
   "execution_count": 137,
   "metadata": {},
   "outputs": [
    {
     "data": {
      "text/plain": [
       "DecisionTreeClassifier(class_weight=None, criterion='gini', max_depth=None,\n",
       "                       max_features=None, max_leaf_nodes=None,\n",
       "                       min_impurity_decrease=0.0, min_impurity_split=None,\n",
       "                       min_samples_leaf=1, min_samples_split=2,\n",
       "                       min_weight_fraction_leaf=0.0, presort=False,\n",
       "                       random_state=10, splitter='best')"
      ]
     },
     "execution_count": 137,
     "metadata": {},
     "output_type": "execute_result"
    }
   ],
   "source": [
    "#predicting using Decision_Tree_Classifier\n",
    "\n",
    "from sklearn.tree import DecisionTreeClassifier\n",
    "\n",
    "model_DecisionTree = DecisionTreeClassifier(criterion=\"gini\", random_state=10) #gini is default\n",
    "\n",
    "#fit the model on the data and predict the values\n",
    "model_DecisionTree.fit(X_train,Y_train)"
   ]
  },
  {
   "cell_type": "code",
   "execution_count": null,
   "metadata": {},
   "outputs": [],
   "source": []
  }
 ],
 "metadata": {
  "kernelspec": {
   "display_name": "Python 3",
   "language": "python",
   "name": "python3"
  },
  "language_info": {
   "codemirror_mode": {
    "name": "ipython",
    "version": 3
   },
   "file_extension": ".py",
   "mimetype": "text/x-python",
   "name": "python",
   "nbconvert_exporter": "python",
   "pygments_lexer": "ipython3",
   "version": "3.7.4"
  }
 },
 "nbformat": 4,
 "nbformat_minor": 2
}
